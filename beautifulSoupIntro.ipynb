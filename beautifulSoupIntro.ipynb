{
  "nbformat": 4,
  "nbformat_minor": 0,
  "metadata": {
    "colab": {
      "name": "beautifulSoupIntro.ipynb",
      "provenance": []
    },
    "kernelspec": {
      "name": "python3",
      "display_name": "Python 3"
    }
  },
  "cells": [
    {
      "cell_type": "markdown",
      "metadata": {
        "id": "OTI4bqNYzQWr"
      },
      "source": [
        "**Beautiful Soup By Example**\r\n",
        "\r\n",
        "**Example 1** - Scrape a particular url on the US Government Archives website to get electoral college allocations by state.\r\n"
      ]
    },
    {
      "cell_type": "code",
      "metadata": {
        "colab": {
          "base_uri": "https://localhost:8080/"
        },
        "id": "CTgY4cP925gL",
        "outputId": "e3e07c46-ec97-441d-881c-8201638ba466"
      },
      "source": [
        "import pandas as pd\n",
        "import requests\n",
        "from bs4 import BeautifulSoup\n",
        "\n",
        "url = 'https://www.archives.gov/electoral-college/allocation'\n",
        "page = requests.get(url)\n",
        "soup = BeautifulSoup(page.content, 'html.parser')\n",
        "tables = soup.findAll('table')\n",
        "#print(tables)\n",
        "\n",
        "stateVoteList = []\n",
        "for table in tables:\n",
        "  p = ''\n",
        "  p = table.findAll('p')\n",
        "  for elem in p:\n",
        "    #print(elem.text.split(' - ')[0], elem.text.split(' - ')[1])\n",
        "    stateVoteList.append([elem.text.split(' - ')[0], elem.text.split(' - ')[1]])\n",
        "\n",
        "df = pd.DataFrame(stateVoteList, columns = ['state', 'votes'])\n",
        "\n",
        "print(df)"
      ],
      "execution_count": 4,
      "outputs": [
        {
          "output_type": "stream",
          "text": [
            "                   state     votes\n",
            "0                Alabama   9 votes\n",
            "1               Kentucky   8 votes\n",
            "2           North Dakota   3 votes\n",
            "3                 Alaska   3 votes\n",
            "4              Louisiana   8 votes\n",
            "5                   Ohio  18 votes\n",
            "6                Arizona  11 votes\n",
            "7                  Maine   4 votes\n",
            "8               Oklahoma   7 votes\n",
            "9               Arkansas   6 votes\n",
            "10              Maryland  10 votes\n",
            "11                Oregon   7 votes\n",
            "12            California  55 votes\n",
            "13         Massachusetts  11 votes\n",
            "14          Pennsylvania  20 votes\n",
            "15              Colorado   9 votes\n",
            "16              Michigan  16 votes\n",
            "17          Rhode Island   4 votes\n",
            "18           Connecticut   7 votes\n",
            "19             Minnesota  10 votes\n",
            "20        South Carolina   9 votes\n",
            "21              Delaware   3 votes\n",
            "22           Mississippi   6 votes\n",
            "23          South Dakota   3 votes\n",
            "24  District of Columbia   3 votes\n",
            "25              Missouri  10 votes\n",
            "26             Tennessee  11 votes\n",
            "27               Florida  29 votes\n",
            "28               Montana   3 votes\n",
            "29                 Texas  38 votes\n",
            "30               Georgia  16 votes\n",
            "31              Nebraska   5 votes\n",
            "32                  Utah   6 votes\n",
            "33                Hawaii   4 votes\n",
            "34                Nevada   6 votes\n",
            "35               Vermont   3 votes\n",
            "36                 Idaho   4 votes\n",
            "37         New Hampshire   4 votes\n",
            "38              Virginia  13 votes\n",
            "39              Illinois  20 votes\n",
            "40            New Jersey  14 votes\n",
            "41            Washington  12 votes\n",
            "42               Indiana  11 votes\n",
            "43            New Mexico   5 votes\n",
            "44         West Virginia   5 votes\n",
            "45                  Iowa   6 votes\n",
            "46              New York  29 votes\n",
            "47             Wisconsin  10 votes\n",
            "48                Kansas   6 votes\n",
            "49        North Carolina  15 votes\n",
            "50               Wyoming   3 votes\n"
          ],
          "name": "stdout"
        }
      ]
    }
  ]
}