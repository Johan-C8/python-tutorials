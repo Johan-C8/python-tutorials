{
  "nbformat": 4,
  "nbformat_minor": 0,
  "metadata": {
    "colab": {
      "name": "pdfsPython.ipynb",
      "provenance": []
    },
    "kernelspec": {
      "name": "python3",
      "display_name": "Python 3"
    }
  },
  "cells": [
    {
      "cell_type": "markdown",
      "metadata": {
        "id": "j5U3oV-GdbeG"
      },
      "source": [
        "**Dataframes to PDFs**\n",
        "\n",
        "I'm presenting two different ways that we can output a pandas dataframe to a pdf. A familiarity with pandas and matplotlib libraries is useful but not necessary to follow along."
      ]
    },
    {
      "cell_type": "markdown",
      "metadata": {
        "id": "dfgtycK2cvQo"
      },
      "source": [
        "For this example I'm using the Iris Dataset from the sci-kit learn library.\n",
        "\n",
        "Link to relevant section of sci-kit learn docs: https://scikit-learn.org/stable/auto_examples/datasets/plot_iris_dataset.html"
      ]
    },
    {
      "cell_type": "code",
      "metadata": {
        "id": "dVhOicCwcYp8",
        "outputId": "d5282606-d027-4591-d810-979ac7ddda10",
        "colab": {
          "base_uri": "https://localhost:8080/",
          "height": 173
        }
      },
      "source": [
        "import pandas as pd\n",
        "import numpy as np\n",
        "from sklearn.datasets import load_iris\n",
        "\n",
        "iris = load_iris()\n",
        "iris_df = pd.DataFrame(data= np.c_[iris['data'], iris['target']], columns= iris['feature_names'] + ['target'])\n",
        "\n",
        "iris_grouped_df = iris_df.groupby('target').mean().round(1)\n",
        "\n",
        "condition_list = [iris_grouped_df.index == 0,iris_grouped_df.index == 1,iris_grouped_df.index == 2]\n",
        "choice_list = ['setosa', 'versicolor', 'virginica']\n",
        "iris_grouped_df['target_name'] = np.select(condition_list,choice_list,default='unknown')\n",
        "iris_grouped_df"
      ],
      "execution_count": null,
      "outputs": [
        {
          "output_type": "execute_result",
          "data": {
            "text/html": [
              "<div>\n",
              "<style scoped>\n",
              "    .dataframe tbody tr th:only-of-type {\n",
              "        vertical-align: middle;\n",
              "    }\n",
              "\n",
              "    .dataframe tbody tr th {\n",
              "        vertical-align: top;\n",
              "    }\n",
              "\n",
              "    .dataframe thead th {\n",
              "        text-align: right;\n",
              "    }\n",
              "</style>\n",
              "<table border=\"1\" class=\"dataframe\">\n",
              "  <thead>\n",
              "    <tr style=\"text-align: right;\">\n",
              "      <th></th>\n",
              "      <th>sepal length (cm)</th>\n",
              "      <th>sepal width (cm)</th>\n",
              "      <th>petal length (cm)</th>\n",
              "      <th>petal width (cm)</th>\n",
              "      <th>target_name</th>\n",
              "    </tr>\n",
              "    <tr>\n",
              "      <th>target</th>\n",
              "      <th></th>\n",
              "      <th></th>\n",
              "      <th></th>\n",
              "      <th></th>\n",
              "      <th></th>\n",
              "    </tr>\n",
              "  </thead>\n",
              "  <tbody>\n",
              "    <tr>\n",
              "      <th>0.0</th>\n",
              "      <td>5.0</td>\n",
              "      <td>3.4</td>\n",
              "      <td>1.5</td>\n",
              "      <td>0.2</td>\n",
              "      <td>setosa</td>\n",
              "    </tr>\n",
              "    <tr>\n",
              "      <th>1.0</th>\n",
              "      <td>5.9</td>\n",
              "      <td>2.8</td>\n",
              "      <td>4.3</td>\n",
              "      <td>1.3</td>\n",
              "      <td>versicolor</td>\n",
              "    </tr>\n",
              "    <tr>\n",
              "      <th>2.0</th>\n",
              "      <td>6.6</td>\n",
              "      <td>3.0</td>\n",
              "      <td>5.6</td>\n",
              "      <td>2.0</td>\n",
              "      <td>virginica</td>\n",
              "    </tr>\n",
              "  </tbody>\n",
              "</table>\n",
              "</div>"
            ],
            "text/plain": [
              "        sepal length (cm)  sepal width (cm)  ...  petal width (cm)  target_name\n",
              "target                                       ...                               \n",
              "0.0                   5.0               3.4  ...               0.2       setosa\n",
              "1.0                   5.9               2.8  ...               1.3   versicolor\n",
              "2.0                   6.6               3.0  ...               2.0    virginica\n",
              "\n",
              "[3 rows x 5 columns]"
            ]
          },
          "metadata": {
            "tags": []
          },
          "execution_count": 1
        }
      ]
    },
    {
      "cell_type": "markdown",
      "metadata": {
        "id": "zxmiC6wIdQFQ"
      },
      "source": [
        "**FPDF Library**\n",
        "\n",
        "First we'll use the FPDF Library to output our dataset to a pdf. Outputted file we'll be in\n",
        "\n",
        "Link to docs and further tutorials: https://pyfpdf.readthedocs.io/en/latest/Tutorial/index.html"
      ]
    },
    {
      "cell_type": "code",
      "metadata": {
        "id": "IvIecrW-eXdY",
        "outputId": "183ed65e-6f44-4f13-ff7b-756bcd0189ee",
        "colab": {
          "base_uri": "https://localhost:8080/",
          "height": 208
        }
      },
      "source": [
        "!pip install fpdf\n",
        "from fpdf import FPDF\n",
        "\n",
        "pdf = FPDF()\n",
        "pdf.add_page()\n",
        "pdf.set_font('arial', 'B', 11)\n",
        "pdf.cell(60)\n",
        "pdf.cell(75, 10, 'Iris Dataset Average Measurements By Class', 0, 2, 'C')\n",
        "pdf.cell(90, 10, ' ', 0, 2, 'C')\n",
        "pdf.cell(-55)\n",
        "columnNameList = list(iris_grouped_df.columns)\n",
        "for header in columnNameList[:-1]:\n",
        "  pdf.cell(35, 10, columnNameList[-1], 1, 0, 'C')\n",
        "pdf.cell(35, 10, columnNameList[-1], 1, 2, 'C')\n",
        "pdf.cell(-140)\n",
        "pdf.set_font('arial', '', 11)\n",
        "for row in range(0, len(iris_grouped_df)):\n",
        "  for col_num, col_name in enumerate(columnNameList):\n",
        "    if col_num != len(columnNameList)-1:\n",
        "      pdf.cell(35,10, str(iris_grouped_df['%s' % (col_name)].iloc[row]), 1, 0, 'C')\n",
        "    else:\n",
        "      pdf.cell(35,10, str(iris_grouped_df['%s' % (col_name)].iloc[row]), 1, 2, 'C')  \n",
        "      pdf.cell(-140)\n",
        "pdf.output('iris_grouped_df_0.pdf', 'F')    "
      ],
      "execution_count": null,
      "outputs": [
        {
          "output_type": "stream",
          "text": [
            "Collecting fpdf\n",
            "  Downloading https://files.pythonhosted.org/packages/37/c6/608a9e6c172bf9124aa687ec8b9f0e8e5d697d59a5f4fad0e2d5ec2a7556/fpdf-1.7.2.tar.gz\n",
            "Building wheels for collected packages: fpdf\n",
            "  Building wheel for fpdf (setup.py) ... \u001b[?25l\u001b[?25hdone\n",
            "  Created wheel for fpdf: filename=fpdf-1.7.2-py2.py3-none-any.whl size=40721 sha256=0749dff98feaf58d8dec9b950502ecbcc1ab039da1d44c059cad22152073b475\n",
            "  Stored in directory: /root/.cache/pip/wheels/9a/e9/77/4554ff5c99bc3f487c8d69620d8c41d99d54e9c54ab20ef4c9\n",
            "Successfully built fpdf\n",
            "Installing collected packages: fpdf\n",
            "Successfully installed fpdf-1.7.2\n"
          ],
          "name": "stdout"
        },
        {
          "output_type": "execute_result",
          "data": {
            "application/vnd.google.colaboratory.intrinsic+json": {
              "type": "string"
            },
            "text/plain": [
              "''"
            ]
          },
          "metadata": {
            "tags": []
          },
          "execution_count": 6
        }
      ]
    },
    {
      "cell_type": "markdown",
      "metadata": {
        "id": "ygAEkoh6eYRZ"
      },
      "source": [
        "**Matplotlib**\n",
        "Now we're going to create a table image using the Matplotlib library and add it to a pdf.\n",
        "\n",
        "Link to Matplotlib Docs: https://matplotlib.org/"
      ]
    },
    {
      "cell_type": "code",
      "metadata": {
        "id": "WUpLjGcyjCPa",
        "outputId": "5e73a388-8a42-4d59-87d9-f6fa9c779a9d",
        "colab": {
          "base_uri": "https://localhost:8080/",
          "height": 248
        }
      },
      "source": [
        "from pandas.plotting import table\n",
        "import matplotlib.pyplot as plt\n",
        "\n",
        "ax = plt.subplot(111, frame_on=False)\n",
        "ax.xaxis.set_visible(0)\n",
        "ax.yaxis.set_visible(0)\n",
        "table(ax, iris_grouped_df, loc='upper center')\n",
        "plt.savefig('iris_grouped_df_1.pdf')"
      ],
      "execution_count": null,
      "outputs": [
        {
          "output_type": "display_data",
          "data": {
            "image/png": "[encoded data removed]",
            "text/plain": [
              "<Figure size 432x288 with 1 Axes>"
            ]
          },
          "metadata": {
            "tags": [],
            "needs_background": "light"
          }
        }
      ]
    }
  ]
}