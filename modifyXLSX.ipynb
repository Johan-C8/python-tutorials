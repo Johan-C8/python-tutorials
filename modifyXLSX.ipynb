{
  "nbformat": 4,
  "nbformat_minor": 0,
  "metadata": {
    "colab": {
      "provenance": []
    },
    "kernelspec": {
      "name": "python3",
      "display_name": "Python 3"
    },
    "language_info": {
      "name": "python"
    }
  },
  "cells": [
    {
      "cell_type": "markdown",
      "source": [
        "**Part 0:** Make an excel file"
      ],
      "metadata": {
        "id": "bAE6Djf3h3GE"
      }
    },
    {
      "cell_type": "code",
      "execution_count": null,
      "metadata": {
        "id": "cygmE-2Ih1te"
      },
      "outputs": [],
      "source": [
        "import pandas as pd\n",
        "df = pd.DataFrame({'Col_A': [1,2,3,4],\n",
        "                   'Col_B': [5,6,7,8],\n",
        "                   'Col_C': [0,0,0,0],\n",
        "                   'Col_D': [13,14,15,16]})\n",
        "\n",
        "df.to_excel('test.xlsx', index=False)"
      ]
    },
    {
      "cell_type": "markdown",
      "source": [
        "**Part 1:** Overwrite part of the existing xlsx file"
      ],
      "metadata": {
        "id": "EDBZSRRNiuIH"
      }
    },
    {
      "cell_type": "code",
      "source": [
        "from openpyxl import load_workbook\n",
        "import pandas as pd\n",
        "df_new = pd.DataFrame({'Col_C': [9,10,11,12]})\n",
        "wb = load_workbook('test.xlsx')\n",
        "\n",
        "ws = wb['Sheet1']\n",
        "\n",
        "for index, row in df_new.iterrows():\n",
        "  cell = 'C%d' % (index + 2)\n",
        "  ws[cell] = row[0]\n",
        "\n",
        "wb.save('test.xlsx')"
      ],
      "metadata": {
        "id": "w4rWghM9i10e"
      },
      "execution_count": null,
      "outputs": []
    }
  ]
}