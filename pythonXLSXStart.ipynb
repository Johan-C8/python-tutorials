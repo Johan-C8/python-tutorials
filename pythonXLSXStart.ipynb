{
  "nbformat": 4,
  "nbformat_minor": 0,
  "metadata": {
    "colab": {
      "name": "pythonXLSXStart.ipynb",
      "provenance": [],
      "collapsed_sections": []
    },
    "kernelspec": {
      "name": "python3",
      "display_name": "Python 3"
    }
  },
  "cells": [
    {
      "cell_type": "markdown",
      "metadata": {
        "id": "2heMTwQTPQYP",
        "colab_type": "text"
      },
      "source": [
        "**Pandas**\n",
        "\n",
        "First we examine using the Pandas library to create or modify an existing excel file.\n",
        "\n",
        "For each example I use a toy data set from sci-kit learn library (if you're not familiar with this library then don't worry .... For now I'm just using it to get toy data for a fully reproducible example)\n",
        "\n",
        "Documentation for `pandas.DataFrame.to_excel()`:\n",
        "https://pandas.pydata.org/pandas-docs/stable/reference/api/pandas.DataFrame.to_excel.html"
      ]
    },
    {
      "cell_type": "code",
      "metadata": {
        "id": "4qk5n89Evkw2",
        "colab_type": "code",
        "colab": {}
      },
      "source": [
        "import pandas as pd\n",
        "import numpy as np\n",
        "from sklearn.datasets import load_iris\n",
        "\n",
        "iris = load_iris()\n",
        "iris_df = pd.DataFrame(data= np.c_[iris['data'], iris['target']], columns= iris['feature_names'] + ['target'])\n",
        "\n",
        "iris_df.to_excel('iris.xlsx')\n",
        "#you could replace the line above with the line below to place in your Google Drive (home directory)\n",
        "#df.to_excel(r'drive/My Drive/iris.xlsx')"
      ],
      "execution_count": null,
      "outputs": []
    },
    {
      "cell_type": "markdown",
      "metadata": {
        "id": "Ni4S-Zkm_04T",
        "colab_type": "text"
      },
      "source": [
        "Let's download the file and view in MS Excel excel libre or google sheets (https://docs.google.com/spreadsheets/).\n"
      ]
    },
    {
      "cell_type": "markdown",
      "metadata": {
        "id": "ZUF62SSX_Bl6",
        "colab_type": "text"
      },
      "source": [
        "**Xlsxwriter**\n",
        "\n",
        "Now let's examine using xlsxwriter to create an original excel file.\n",
        "\n",
        "In this example we use the `Workbook()` constructor to create a workbook and the `add_worksheet()` to add a new worksheet.\n",
        "\n",
        "In this workbook we'll only create one worksheet with only 3 of the columns from the dataframe and another worksheet with another 3 of the columns from the dataframe.\n",
        "\n",
        "Documentation for XlsxWriter Module:\n",
        "https://xlsxwriter.readthedocs.io"
      ]
    },
    {
      "cell_type": "code",
      "metadata": {
        "id": "gWd5dU_WN-rz",
        "colab_type": "code",
        "colab": {
          "base_uri": "https://localhost:8080/",
          "height": 122
        },
        "outputId": "99d9b73b-ce40-4d77-9c7c-e4615f463bed"
      },
      "source": [
        "!pip install xlsxwriter\n",
        "import xlsxwriter\n",
        "from sklearn.datasets import load_boston\n",
        "\n",
        "boston = load_boston()\n",
        "\n",
        "boston_df = pd.DataFrame(data=np.c_[boston['data'], boston['target']],columns= list(boston['feature_names']) + ['target'])\n",
        "# two digressions worth mentioning in the next two lines\n",
        "#print(boston_df.head())\n",
        "#print(boston.DESCR)\n",
        "\n",
        "workbook = xlsxwriter.Workbook('boston.xlsx')\n",
        "worksheet = workbook.add_worksheet('boston1')\n",
        "\n",
        "worksheet.write(0, 0, 'Median Value')\n",
        "worksheet.write(0, 1, 'Pupil-Teacher Ratio')\n",
        "worksheet.write(0, 2, 'Pct. lower status of Population')\n",
        "worksheet.write_column(1, 0, boston_df['target'])\n",
        "worksheet.write_column(1, 1, boston_df['LSTAT'])\n",
        "worksheet.write_column(1, 2, boston_df['PTRATIO'])\n",
        "\n",
        "workbook.close()\n"
      ],
      "execution_count": null,
      "outputs": [
        {
          "output_type": "stream",
          "text": [
            "Collecting xlsxwriter\n",
            "\u001b[?25l  Downloading https://files.pythonhosted.org/packages/00/1f/2092a81056d36c1b6651a645aa84c1f76bcee03103072d4fe1cb58501d69/XlsxWriter-1.2.8-py2.py3-none-any.whl (141kB)\n",
            "\r\u001b[K     |██▎                             | 10kB 19.1MB/s eta 0:00:01\r\u001b[K     |████▋                           | 20kB 1.7MB/s eta 0:00:01\r\u001b[K     |███████                         | 30kB 2.2MB/s eta 0:00:01\r\u001b[K     |█████████▎                      | 40kB 2.4MB/s eta 0:00:01\r\u001b[K     |███████████▋                    | 51kB 2.0MB/s eta 0:00:01\r\u001b[K     |██████████████                  | 61kB 2.2MB/s eta 0:00:01\r\u001b[K     |████████████████▏               | 71kB 2.4MB/s eta 0:00:01\r\u001b[K     |██████████████████▌             | 81kB 2.6MB/s eta 0:00:01\r\u001b[K     |████████████████████▉           | 92kB 2.8MB/s eta 0:00:01\r\u001b[K     |███████████████████████▏        | 102kB 2.7MB/s eta 0:00:01\r\u001b[K     |█████████████████████████▌      | 112kB 2.7MB/s eta 0:00:01\r\u001b[K     |███████████████████████████▉    | 122kB 2.7MB/s eta 0:00:01\r\u001b[K     |██████████████████████████████  | 133kB 2.7MB/s eta 0:00:01\r\u001b[K     |████████████████████████████████| 143kB 2.7MB/s \n",
            "\u001b[?25hInstalling collected packages: xlsxwriter\n",
            "Successfully installed xlsxwriter-1.2.8\n"
          ],
          "name": "stdout"
        }
      ]
    },
    {
      "cell_type": "markdown",
      "metadata": {
        "id": "0NAOFwVMGDyG",
        "colab_type": "text"
      },
      "source": [
        "**Openpyxl**\n",
        "\n",
        "The third module we look at is openpyxl.  We can use this module for a number of reasons.  One very useful one is to modify an existing .xlsx files.  Here we take the boston.xlsx and format the column names.  You cannot modify an existing .xlsx file with xlsxwriter. \n"
      ]
    },
    {
      "cell_type": "code",
      "metadata": {
        "id": "H5fjj5jGgqgv",
        "colab_type": "code",
        "colab": {}
      },
      "source": [
        "from openpyxl import load_workbook\n",
        "from openpyxl.styles import Font\n",
        "\n",
        "workbook = load_workbook('boston.xlsx')\n",
        "worksheet = workbook['boston1']\n",
        "style = Font(color='0000FF00', bold=True, underline=\"single\", size=12)\n",
        "\n",
        "\n",
        "for cell in worksheet[\"1:1\"]:\n",
        "    cell.font = style\n",
        "\n",
        "workbook.save('boston_2.xlsx')\n",
        "\n"
      ],
      "execution_count": null,
      "outputs": []
    },
    {
      "cell_type": "markdown",
      "metadata": {
        "id": "Zkf0Pl6Iibic",
        "colab_type": "text"
      },
      "source": [
        "Tying Pandas, xlsxwriter, and openpyxl together we can change the engine for pandas and use xlsxwriter or openpyxl.\n",
        "\n",
        "So there are a number parameters for `DataFrame.to_excel()` that are listed in the pandas documentation.  One of these is engine=None which we can set to `engine = 'openpyxl'` or `engine = 'xlswriter'`.  We'll get into this further later and in other videos .... But for now know that if `engine = 'openpyxl'` we can modify the workbook. "
      ]
    }
  ]
}