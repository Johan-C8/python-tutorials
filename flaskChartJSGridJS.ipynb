{
  "cells": [
    {
      "cell_type": "markdown",
      "metadata": {
        "id": "vRNK3T9FL5kR"
      },
      "source": [
        "This notebook will be fully reproducible (no changes needed) as long as you setup an ngrok authtoken at https://ngrok.com/. Details are at step 3.\n",
        "\n",
        "**Step 0 - Data Collection**\n",
        "\n",
        "We could get economic data for this App from the Federal Reserve Economic Database (FRED to its friends) using the pandas datareader library. However I've chosen to take it directly from the US Bureau of Labor Statistics website as you don't need to know all the different codes for industries and data types. Then I've removed certain types of data from the dataframe for our App."
      ]
    },
    {
      "cell_type": "code",
      "execution_count": null,
      "metadata": {
        "id": "mC_V7tXvLyS2"
      },
      "outputs": [],
      "source": [
        "import pandas as pd\n",
        "\n",
        "#This dataframe contains the JOLTS estimates that we'll be using for our app\n",
        "base_url = 'https://download.bls.gov/pub/time.series/jt/' \n",
        "data_df = pd.read_csv(base_url + 'jt.data.1.AllItems', sep='\\t')\n",
        "\n",
        "#The other dataframes below are lookup tables that will be used later on\n",
        "dataelement_df = pd.read_csv(base_url + 'jt.dataelement', sep='\\t')\n",
        "period_df = pd.read_csv(base_url + 'jt.period', sep='\\t')\n",
        "ratelevel_df = pd.read_csv(base_url + 'jt.ratelevel', sep='\\t')\n",
        "industry_df = pd.read_csv(base_url + 'jt.industry', sep='\\t')\n",
        "series_df = pd.read_csv(base_url + 'jt.series', sep='\\t')\n",
        "series_df = series_df.merge(industry_df, on='industry_code', how='left')\n",
        "series_df = series_df.merge(ratelevel_df, on='ratelevel_code', how='left')\n",
        "series_df = series_df.merge(dataelement_df, on='dataelement_code', how='left')\n",
        "\n",
        "data_df = data_df.merge(series_df, on='series_id                     ', how='left')\n",
        "data_df = data_df.merge(period_df, on='period', how='left')\n",
        "\n",
        "# remove whitespace from some column names and strings in one column\n",
        "data_df.columns = data_df.columns.str.replace(' ', '')\n",
        "data_df['series_id'] = data_df['series_id'].str.strip()\n",
        "\n",
        "data_df = data_df[(data_df.sizeclass_code == 0) & (data_df.state_code == '00') \\\n",
        "                  & (data_df.period != 'M13')]\n",
        "\n",
        "final_df = data_df[['year', 'period_name', 'series_id', 'industry_text', 'seasonal',\\\n",
        "                    'ratelevel_text', 'dataelement_text', 'value']]\n",
        "indList = final_df.industry_text.unique()\n",
        "deList = final_df.dataelement_text.unique()\n",
        "seriesList = final_df.series_id.unique()\n",
        "colorList = 10 * ['#F0F8FF', '#ADff2F', '#4B0082', '#B22222', '#E0FFFF', '#32CD32', \\\n",
        "                  '#CD853F', 'FF6347', '#4682B4', '#98FB98']\n",
        "    "
      ]
    },
    {
      "cell_type": "markdown",
      "metadata": {
        "id": "pXhdzBYTbU50"
      },
      "source": [
        "**Step 1 - Setup directories for Flask**"
      ]
    },
    {
      "cell_type": "code",
      "source": [
        "import os\n",
        "\n",
        "if not os.path.exists('templates'):\n",
        "  os.makedirs('templates')\n",
        "if not os.path.exists('static'):\n",
        "  os.makedirs('static')\n"
      ],
      "metadata": {
        "id": "b51e_sGXhP1R"
      },
      "execution_count": null,
      "outputs": []
    },
    {
      "cell_type": "markdown",
      "metadata": {
        "id": "eWWEbQachSPH"
      },
      "source": [
        "**Step 2 - Writing HTML files to your templates directory**\n",
        "\n",
        "Now we're getting to the core of what we're doing here. We'll do this in two parts. First, we're creating a header that will be on each page our App loads. Second we'll write individual pages to the templates directory that contain graphs and tables for each industry-datatype combination.\n"
      ]
    },
    {
      "cell_type": "code",
      "source": [
        "header = '''\n",
        "<!DOCTYPE html>\n",
        "<html lang=\"en\">\n",
        "<head>\n",
        "  <title>JOLTS Chart App</title>\n",
        "  <meta charset=\"utf-8\">\n",
        "  <meta name=\"viewport\" content=\"width=device-width, initial-scale=1\">\n",
        "  <script src=\"https://cdnjs.cloudflare.com/ajax/libs/Chart.js/3.9.1/chart.min.js\"></script>\n",
        "  <script src=\"https://maxcdn.bootstrapcdn.com/bootstrap/4.4.1/js/bootstrap.min.js\"></script>\n",
        "  <script src=\"https://cdnjs.cloudflare.com/ajax/libs/jquery/3.6.1/jquery.min.js\"></script>\n",
        "  <script src=\"https://unpkg.com/gridjs/dist/gridjs.umd.js\"></script>\n",
        "  <script src=\"https://cdnjs.cloudflare.com/ajax/libs/gridjs/5.1.0/gridjs.production.min.js\"></script>\n",
        "  <link rel=\"stylesheet\" href=\"https://unpkg.com/gridjs/dist/theme/mermaid.min.css\" type=\"text/css\" />\n",
        "  <link rel=\"stylesheet\" href=\"https://maxcdn.bootstrapcdn.com/bootstrap/4.4.1/css/bootstrap.min.css\">\n",
        "\n",
        "<div class=\"container text-center\">\n",
        "  <h5> US Job Openings and Labor Turnover Survey Application</h5>\n",
        "</div>\n",
        "\n",
        "<nav class=\"navbar navbar-expand-lg navbar-light bg-light\">\n",
        "  <a class=\"navbar-brand\" href=\"#\">Home</a>\n",
        "\n",
        "  <div class=\"collapse navbar-collapse\">\n",
        "    <form action = \"/JOLTSReview\" method = \"post\">\n",
        "      <div class=\"row\">\n",
        "        <div class=\"col\">\n",
        "          <div class=\"form-group\">\n",
        "            <label for=\"etSelect\">Estimation Type</label>\n",
        "            <select class=\"form-control\" id=\"etSelect\" name='et'>\n",
        "              <option>NSA</option>\n",
        "              <option>SA</option>\n",
        "            </select>\n",
        "          </div>\n",
        "        </div>\n",
        "        <div class=\"col\">\n",
        "          <div class=\"form-group\">\n",
        "            <label for=\"dtSelect\">Data Element</label>\n",
        "            <select class=\"form-control\" id=\"dtSelect\" name='dt'>\n",
        "              {% for deItem in deList %}\n",
        "                 <option>{{ deItem }}</option>\n",
        "              {% endfor %}\n",
        "            </select>\n",
        "          </div>\n",
        "        </div>\n",
        "        <div class=\"col\">\n",
        "          <div class=\"form-group\">\n",
        "            <label for=\"catSelect\">Category</label>\n",
        "            <select class=\"form-control\" id=\"catSelect\" name='cat'>\n",
        "              <option>Rates</option>\n",
        "              <option>Levels</option>\n",
        "            </select>\n",
        "          </div>\n",
        "        </div>\n",
        "        <div class=\"col\">\n",
        "          <div class=\"form-group\">\n",
        "            <label for=\"indSelect\">Industry / Region</label>\n",
        "            <select class=\"form-control\" id=\"indSelect\" name='ind'>\n",
        "              {% for indItem in indList %}\n",
        "                 <option>{{ indItem }}</option>\n",
        "              {% endfor %}\n",
        "            </select>\n",
        "          </div>\n",
        "        </div>\n",
        "        <div class=\"col\">\n",
        "        <button type=\"submit\" class=\"button button0\">Load Data</button>\n",
        "\t\t    </div>\n",
        "      </div>\n",
        "    </form>\n",
        "  </div>\n",
        "</nav>\n",
        "</head>\n",
        "'''\n",
        "file = open(\"templates/header.html\",\"w\")\n",
        "file.write(header)\n",
        "file.close()"
      ],
      "metadata": {
        "id": "tQqTVbujJvGv"
      },
      "execution_count": null,
      "outputs": []
    },
    {
      "cell_type": "code",
      "source": [
        "def write_html(seriesID):\n",
        "    # writes all the pages that can be accessed by a user\n",
        "    htmlFile = 'templates/%s.html' % (seriesID)\n",
        "    df_selected = final_df[final_df['series_id'] == seriesID]\n",
        "    industry_text = df_selected['industry_text'].iloc[0]\n",
        "    dataelement_text = df_selected['dataelement_text'].iloc[0]\n",
        "    if seriesID[0:3] == 'JTU':\n",
        "        nsa_sa = 'NSA'\n",
        "    else:\n",
        "        nsa_sa = 'SA'        \n",
        "    yearList = df_selected.year.unique()[:-1]\n",
        "    estList = df_selected['value'].to_list()\n",
        "    topArgs = {'topArg0': nsa_sa, 'topArg1': dataelement_text, 'topArg2': industry_text}\n",
        "\n",
        "    part0 = '''\n",
        "    {{% include 'header.html' %}}\n",
        "      <body>\n",
        "      <h6 align='center'>{topArg0} {topArg1} - {topArg2}</h6>\n",
        "        <div class='mx-auto' style='width: 1000px; height: 500px;'>\n",
        "           <canvas id='JOLTSChart'></canvas>\n",
        "        </div>\n",
        "    <script type='text/javascript'>\n",
        "    // labels along the x-axis\n",
        "    const months = ['Dec(PY)','Jan','Feb','Mar','Apr','May','Jun','Jul','Aug','Sep','Oct','Nov','Dec'];\n",
        "    // For drawing the lines\n",
        "    '''.format(**topArgs)\n",
        "    html_part0 = open(htmlFile,\"w\")\n",
        "    html_part0.write(part0)\n",
        "    html_part0.close()\n",
        "    \n",
        "    html_part1 = open(htmlFile, \"a+\")\n",
        "    for yearID, year in enumerate(yearList):\n",
        "        year = yearID + 2001\n",
        "        estListStart = (yearID*12)\n",
        "        estListEnd = estListStart + 13\n",
        "        html_part1.writelines(\"let array%s\" % (year) +\" = \" + \"%s;\" %(estList[estListStart:estListEnd]) + \"\\n\")\n",
        "    html_part1.close()\n",
        "\n",
        "    part2 = '''\n",
        "    var ctx = document.getElementById('JOLTSChart');\n",
        "    var JOLTSChart = new Chart(ctx, {\n",
        "    type: 'line',\n",
        "    data: {\n",
        "    labels: months,\n",
        "    datasets: [\n",
        "    '''\n",
        "    html_part2 = open(htmlFile,\"a+\")\n",
        "    html_part2.write(part2)\n",
        "    html_part2.close()\n",
        "\n",
        "    html_part3 = open(htmlFile, \"a+\")\n",
        "    for yearID, year in enumerate(yearList):\n",
        "        html_part3.writelines(\"{\" + \"\\n\")\n",
        "        html_part3.writelines(\"   data: array%s\" % (year + 1) + \",\" + \"\\n\")\n",
        "        html_part3.writelines(\"   type: 'line'\" + \",\"  + \"\\n\")\n",
        "        html_part3.writelines(\"   label: '%d'\" % (year + 1) + \",\" + \"\\n\")\n",
        "        html_part3.writelines(\"   borderColor: '%s'\" % (colorList[yearID]) + \",\" + \"\\n\")\n",
        "        html_part3.writelines(\"   fill: false\" + \",\" + \"\\n\")\n",
        "        html_part3.writelines(\"   lineTension: 0\" + \",\" + \"\\n\")\n",
        "        if yearID > len(yearList) - 10:\n",
        "            html_part3.writelines(\"   hidden: false\" + \"\\n\")\n",
        "        else:\n",
        "            html_part3.writelines(\"   hidden: true\" + \"\\n\")\n",
        "        html_part3.writelines(\" }\" + \",\" + \"\\n\")\n",
        "    html_part3.close()\n",
        "    \n",
        "    part4 = '''\n",
        "    ]\n",
        "    }\n",
        "    });\n",
        "    </script>\n",
        "    <br>\n",
        "    <center>\n",
        "    <div id='JOLTSTable'></div>\n",
        "    </center>\n",
        "    <script>\n",
        "    data = [\n",
        "    '''\n",
        "    html_part4 = open(htmlFile,\"a+\")\n",
        "    html_part4.write(part4)\n",
        "    html_part4.close()\n",
        "\n",
        "    html_part5 = open(htmlFile, \"a+\")\n",
        "    for yearID, year in enumerate(yearList):\n",
        "        html_part5.writelines(\"[%s].concat(array%s)\" % (year + 1, year + 1) + \",\" + \"\\n\")\n",
        "    html_part5.close()\n",
        "\n",
        "    part6 = '''\n",
        "    ];\n",
        "    new gridjs.Grid({\n",
        "    columns: ['Year'].concat(months),\n",
        "    data: data,\n",
        "    colWidths: [150,100,100,100,100,100,100,100,100,100,100,100,100,100],\n",
        "    pagination: true,\n",
        "    style: {\n",
        "      table: {\n",
        "        border: '3px solid #ccc'\n",
        "    },\n",
        "    th: {\n",
        "      'background-color': 'rgba(0, 0, 0, 0.1)',\n",
        "      color: '#000',\n",
        "      'border-bottom': '3px solid #ccc',\n",
        "      'text-align': 'center'\n",
        "    },\n",
        "    td: {\n",
        "      'text-align': 'center'\n",
        "    }\n",
        "  }\n",
        "    }).render(document.getElementById(\"JOLTSTable\"));\n",
        "    \n",
        "        </script>\n",
        "      </body>\n",
        "    </html>\n",
        "    '''\n",
        "    html_part6 = open(htmlFile,\"a+\")\n",
        "    html_part6.write(part6)\n",
        "    html_part6.close()\n",
        "\n",
        "for series in seriesList:\n",
        "    write_html(seriesID=series)\n"
      ],
      "metadata": {
        "id": "xl3WdwI8zUsw"
      },
      "execution_count": null,
      "outputs": []
    },
    {
      "cell_type": "markdown",
      "metadata": {
        "id": "5QPLHh9nbPTC"
      },
      "source": [
        "**Step 3 - Ngrok setup**\n"
      ]
    },
    {
      "cell_type": "code",
      "source": [
        "!pip install flask-ngrok --quiet\n",
        "!wget https://bin.equinox.io/c/4VmDzA7iaHb/ngrok-stable-linux-amd64.tgz\n",
        "!tar -xvf /content/ngrok-stable-linux-amd64.tgz\n",
        "\n",
        "# paste your own AuthToken here (after signing up for free at ngrok website) and execute this command\n",
        "!./ngrok authtoken 3X62gnpfg01wmWLQi24h5AB_4akYioc8NALGzz3KeBRsn"
      ],
      "metadata": {
        "colab": {
          "base_uri": "https://localhost:8080/"
        },
        "id": "oP0owg23yzYF",
        "outputId": "b336454f-ace8-44aa-91e3-de62c8b236e7"
      },
      "execution_count": null,
      "outputs": [
        {
          "output_type": "stream",
          "name": "stdout",
          "text": [
            "--2022-09-21 15:15:59--  https://bin.equinox.io/c/4VmDzA7iaHb/ngrok-stable-linux-amd64.tgz\n",
            "Resolving bin.equinox.io (bin.equinox.io)... 52.202.168.65, 18.205.222.128, 54.161.241.46, ...\n",
            "Connecting to bin.equinox.io (bin.equinox.io)|52.202.168.65|:443... connected.\n",
            "HTTP request sent, awaiting response... 200 OK\n",
            "Length: 13770165 (13M) [application/octet-stream]\n",
            "Saving to: ‘ngrok-stable-linux-amd64.tgz’\n",
            "\n",
            "ngrok-stable-linux- 100%[===================>]  13.13M  53.9MB/s    in 0.2s    \n",
            "\n",
            "2022-09-21 15:15:59 (53.9 MB/s) - ‘ngrok-stable-linux-amd64.tgz’ saved [13770165/13770165]\n",
            "\n",
            "ngrok\n",
            "Authtoken saved to configuration file: /root/.ngrok2/ngrok.yml\n"
          ]
        }
      ]
    },
    {
      "cell_type": "markdown",
      "source": [
        "**Step 4 - Flask setup and deploying web application to localhost and NGROK**"
      ],
      "metadata": {
        "id": "HxtyTGPjmeLV"
      }
    },
    {
      "cell_type": "code",
      "source": [
        "from flask_ngrok import run_with_ngrok\n",
        "from flask import Flask, render_template, request\n",
        "import pandas as pd\n",
        "\n",
        "app = Flask(__name__)\n",
        "run_with_ngrok(app)\n",
        "\n",
        "@app.route(\"/\", methods=['GET','POST'])\n",
        "def start():\n",
        "    return render_template(\"header.html\", deList=deList, indList=indList)\n",
        "\n",
        "@app.route(\"/JOLTSReview\", methods=['GET','POST'])\n",
        "def JOLTSReview():\n",
        "    # This funtion is taking user inputs and directing to desired chart/table template\n",
        "    et = request.form.get('et')\n",
        "    dt = request.form.get('dt')\n",
        "    cat = request.form.get('cat')\n",
        "    ind = request.form.get('ind')\n",
        "    if et != 'SA':\n",
        "        etSelection = 'JTU'\n",
        "    else:\n",
        "        etSelection = 'JTS'\n",
        "    indSelection = industry_df['industry_code'].astype(str).str.zfill(6).loc[industry_df['industry_text'].str.contains(ind)].to_string(index=False)\n",
        "    stateSelection = '00'\n",
        "    areaSelection = '00000'\n",
        "    sizeSelection = '00'\n",
        "    dtSelection = dataelement_df['dataelement_code'].loc[dataelement_df['dataelement_text'].str.contains(dt)].to_string(index=False)\n",
        "    catSelection = cat[:1].upper()\n",
        "    seriesSelection = etSelection + indSelection + stateSelection + areaSelection + sizeSelection + dtSelection + catSelection\n",
        "    return render_template(\"%s.html\" % (seriesSelection), industry_text=ind, dataelement_text=dt, nsa_sa=et, \\\n",
        "                           datatype_text=cat, deList=deList, indList=indList)\n",
        "    \n",
        "if __name__ == '__main__':\n",
        "    app.run()"
      ],
      "metadata": {
        "colab": {
          "base_uri": "https://localhost:8080/"
        },
        "id": "7-EyMcQE9_n0",
        "outputId": "54265197-1fe0-41b8-8751-0cc368222b02"
      },
      "execution_count": null,
      "outputs": [
        {
          "metadata": {
            "tags": null
          },
          "name": "stdout",
          "output_type": "stream",
          "text": [
            " * Serving Flask app \"__main__\" (lazy loading)\n",
            " * Environment: production\n",
            "\u001b[31m   WARNING: This is a development server. Do not use it in a production deployment.\u001b[0m\n",
            "\u001b[2m   Use a production WSGI server instead.\u001b[0m\n",
            " * Debug mode: off\n"
          ]
        },
        {
          "metadata": {
            "tags": null
          },
          "name": "stderr",
          "output_type": "stream",
          "text": [
            "INFO:werkzeug: * Running on http://127.0.0.1:5000/ (Press CTRL+C to quit)\n"
          ]
        },
        {
          "metadata": {
            "tags": null
          },
          "name": "stdout",
          "output_type": "stream",
          "text": [
            " * Running on http://26e9-34-73-53-21.ngrok.io\n",
            " * Traffic stats available on http://127.0.0.1:4040\n"
          ]
        },
        {
          "metadata": {
            "tags": null
          },
          "name": "stderr",
          "output_type": "stream",
          "text": [
            "INFO:werkzeug:127.0.0.1 - - [21/Sep/2022 15:38:26] \"\u001b[37mGET / HTTP/1.1\u001b[0m\" 200 -\n",
            "INFO:werkzeug:127.0.0.1 - - [21/Sep/2022 15:38:28] \"\u001b[33mGET /favicon.ico HTTP/1.1\u001b[0m\" 404 -\n",
            "INFO:werkzeug:127.0.0.1 - - [21/Sep/2022 15:38:36] \"\u001b[37mPOST /JOLTSReview HTTP/1.1\u001b[0m\" 200 -\n",
            "INFO:werkzeug:127.0.0.1 - - [21/Sep/2022 15:39:12] \"\u001b[37mPOST /JOLTSReview HTTP/1.1\u001b[0m\" 200 -\n",
            "INFO:werkzeug:127.0.0.1 - - [21/Sep/2022 15:39:28] \"\u001b[37mPOST /JOLTSReview HTTP/1.1\u001b[0m\" 200 -\n"
          ]
        }
      ]
    }
  ],
  "metadata": {
    "colab": {
      "collapsed_sections": [],
      "provenance": []
    },
    "kernelspec": {
      "display_name": "Python 3",
      "name": "python3"
    },
    "language_info": {
      "name": "python"
    }
  },
  "nbformat": 4,
  "nbformat_minor": 0
}