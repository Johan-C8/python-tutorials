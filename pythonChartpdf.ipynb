{
  "nbformat": 4,
  "nbformat_minor": 0,
  "metadata": {
    "colab": {
      "name": "pythonChartpdf.ipynb",
      "provenance": []
    },
    "kernelspec": {
      "name": "python3",
      "display_name": "Python 3"
    }
  },
  "cells": [
    {
      "cell_type": "code",
      "metadata": {
        "id": "9sCtYEQ58GlO",
        "outputId": "1cd20c28-2ac7-477f-a59d-04743b747f44",
        "colab": {
          "base_uri": "https://localhost:8080/",
          "height": 173
        }
      },
      "source": [
        "import pandas as pd\n",
        "import numpy as np\n",
        "from sklearn.datasets import load_iris\n",
        "\n",
        "iris = load_iris()\n",
        "iris_df = pd.DataFrame(data= np.c_[iris['data'], iris['target']], columns= iris['feature_names'] + ['target'])\n",
        "\n",
        "iris_grouped_df = iris_df.groupby('target').mean().round(1)\n",
        "\n",
        "condition_list = [iris_grouped_df.index == 0,iris_grouped_df.index == 1,iris_grouped_df.index == 2]\n",
        "choice_list = ['setosa' , 'versicolor', 'virginica']\n",
        "iris_grouped_df['target_name'] = np.select(condition_list, choice_list, default='unknown')\n",
        "iris_grouped_df\n"
      ],
      "execution_count": 1,
      "outputs": [
        {
          "output_type": "execute_result",
          "data": {
            "text/html": [
              "<div>\n",
              "<style scoped>\n",
              "    .dataframe tbody tr th:only-of-type {\n",
              "        vertical-align: middle;\n",
              "    }\n",
              "\n",
              "    .dataframe tbody tr th {\n",
              "        vertical-align: top;\n",
              "    }\n",
              "\n",
              "    .dataframe thead th {\n",
              "        text-align: right;\n",
              "    }\n",
              "</style>\n",
              "<table border=\"1\" class=\"dataframe\">\n",
              "  <thead>\n",
              "    <tr style=\"text-align: right;\">\n",
              "      <th></th>\n",
              "      <th>sepal length (cm)</th>\n",
              "      <th>sepal width (cm)</th>\n",
              "      <th>petal length (cm)</th>\n",
              "      <th>petal width (cm)</th>\n",
              "      <th>target_name</th>\n",
              "    </tr>\n",
              "    <tr>\n",
              "      <th>target</th>\n",
              "      <th></th>\n",
              "      <th></th>\n",
              "      <th></th>\n",
              "      <th></th>\n",
              "      <th></th>\n",
              "    </tr>\n",
              "  </thead>\n",
              "  <tbody>\n",
              "    <tr>\n",
              "      <th>0.0</th>\n",
              "      <td>5.0</td>\n",
              "      <td>3.4</td>\n",
              "      <td>1.5</td>\n",
              "      <td>0.2</td>\n",
              "      <td>setosa</td>\n",
              "    </tr>\n",
              "    <tr>\n",
              "      <th>1.0</th>\n",
              "      <td>5.9</td>\n",
              "      <td>2.8</td>\n",
              "      <td>4.3</td>\n",
              "      <td>1.3</td>\n",
              "      <td>versicolor</td>\n",
              "    </tr>\n",
              "    <tr>\n",
              "      <th>2.0</th>\n",
              "      <td>6.6</td>\n",
              "      <td>3.0</td>\n",
              "      <td>5.6</td>\n",
              "      <td>2.0</td>\n",
              "      <td>virginica</td>\n",
              "    </tr>\n",
              "  </tbody>\n",
              "</table>\n",
              "</div>"
            ],
            "text/plain": [
              "        sepal length (cm)  sepal width (cm)  ...  petal width (cm)  target_name\n",
              "target                                       ...                               \n",
              "0.0                   5.0               3.4  ...               0.2       setosa\n",
              "1.0                   5.9               2.8  ...               1.3   versicolor\n",
              "2.0                   6.6               3.0  ...               2.0    virginica\n",
              "\n",
              "[3 rows x 5 columns]"
            ]
          },
          "metadata": {
            "tags": []
          },
          "execution_count": 1
        }
      ]
    },
    {
      "cell_type": "markdown",
      "metadata": {
        "id": "E8R59Myy8Z2p"
      },
      "source": [
        "**Matplotlib Chart and Table in PDF example**"
      ]
    },
    {
      "cell_type": "code",
      "metadata": {
        "id": "7xbYMiTe8n6N",
        "outputId": "f5e13b23-f0cc-4cb8-e815-ef90280e875b",
        "colab": {
          "base_uri": "https://localhost:8080/",
          "height": 194
        }
      },
      "source": [
        "import matplotlib\n",
        "import matplotlib.pyplot as plt\n",
        "import numpy as np\n",
        "from pandas.plotting import table\n",
        "\n",
        "ax = plt.subplot(211)\n",
        "plt.title(\"Iris Dataset Average by Plant Type\")\n",
        "plt.ylabel('Centimeters (cm)')\n",
        "\n",
        "ticks = [4,8,12,16]\n",
        "a = [x - 1 for x in ticks]\n",
        "b = [x + 1 for x in ticks]\n",
        "\n",
        "plt.xticks([])\n",
        "\n",
        "plt.bar(a, iris_grouped_df.loc[0].values.tolist()[:-1], width=1, label=\"\".join(iris_grouped_df.loc[0].values.tolist()[-1:]))\n",
        "plt.bar(ticks, iris_grouped_df.loc[1].values.tolist()[:-1], width=1, label=\"\".join(iris_grouped_df.loc[1].values.tolist()[-1:]))\n",
        "plt.bar(b, iris_grouped_df.loc[2].values.tolist()[:-1], width=1, label=\"\".join(iris_grouped_df.loc[2].values.tolist()[-1:]))\n",
        "\n",
        "plt.legend()\n",
        "plt.axis([0, 20, 0, 8])\n",
        "\n",
        "table(ax, iris_grouped_df.drop(['target_name'], axis=1), loc='bottom')\n",
        "plt.savefig('iris_grouped_df.pdf')\n"
      ],
      "execution_count": null,
      "outputs": [
        {
          "output_type": "display_data",
          "data": {
            "image/png": "[encoded data removed]",
            "text/plain": [
              "<Figure size 432x288 with 1 Axes>"
            ]
          },
          "metadata": {
            "tags": [],
            "needs_background": "light"
          }
        }
      ]
    },
    {
      "cell_type": "markdown",
      "metadata": {
        "id": "dfb_NqrLkZtt"
      },
      "source": [
        "**Matplotlib Chart and FPDF Table in PDF example**"
      ]
    },
    {
      "cell_type": "code",
      "metadata": {
        "id": "ttJmDqoNkgJg",
        "outputId": "ddd46ab7-d732-426b-f7a3-c2b572b01c7b",
        "colab": {
          "base_uri": "https://localhost:8080/",
          "height": 271
        }
      },
      "source": [
        "!pip install fpdf\n",
        "from fpdf import FPDF\n",
        "import matplotlib\n",
        "import matplotlib.pyplot as plt\n",
        "import numpy as np\n",
        "\n",
        "ax = plt.subplot(211)\n",
        "plt.title(\"Iris Dataset Averages by Plant Type\")\n",
        "plt.xlabel(\"Measurement Name\")\n",
        "plt.ylabel(\"Centimeters (cm)\")\n",
        "\n",
        "ticks = [4.0, 8.0, 12.0, 16.0]\n",
        "a = [x - 1 for x in ticks]\n",
        "b = [x + 1 for x in ticks]\n",
        "\n",
        "plt.xticks(ticks,list(iris_grouped_df.drop(['target_name'], axis=1).columns), rotation=45)\n",
        "plt.bar(a, iris_grouped_df.loc[0].values.tolist()[:-1], width=1, label=\"\".join(iris_grouped_df.loc[0].values.tolist()[-1:]))\n",
        "plt.bar(ticks, iris_grouped_df.loc[1].values.tolist()[:-1], width=1, label=\"\".join(iris_grouped_df.loc[1].values.tolist()[-1:]))\n",
        "plt.bar(b, iris_grouped_df.loc[2].values.tolist()[:-1], width=1, label=\"\".join(iris_grouped_df.loc[2].values.tolist()[-1:]))\n",
        "\n",
        "plt.legend()\n",
        "plt.axis([0, 20, 0, 8])\n",
        "\n",
        "plt.savefig('iris_grouped_df.png')\n",
        "\n",
        "pdf=FPDF()\n",
        "pdf.add_page()\n",
        "pdf.set_font('arial', 'B', 11)\n",
        "pdf.cell(60)\n",
        "pdf.cell(75, 10,'Iris Dataset Measurements by Class', 0, 2, 'C')\n",
        "pdf.cell(90, 10, '', 0, 2, 'C')\n",
        "pdf.cell(-55)\n",
        "columnNameList = list(iris_grouped_df.columns)\n",
        "for header in columnNameList[:-1]:\n",
        "  pdf.cell(35, 10, header, 1, 0, 'C')\n",
        "pdf.cell(35, 10, columnNameList[-1], 1, 2, 'C')\n",
        "pdf.cell(-140)\n",
        "pdf.set_font('arial', '', 11)\n",
        "for row in range(0, len(iris_grouped_df)):\n",
        "  for col_num, col_name in enumerate(columnNameList):\n",
        "    if col_num != len(columnNameList) - 1:\n",
        "      pdf.cell(35, 10, str(iris_grouped_df['%s' % (col_name)].iloc[row]), 1, 0, 'C')\n",
        "    else:\n",
        "      pdf.cell(35, 10, str(iris_grouped_df['%s' % (col_name)].iloc[row]), 1, 2, 'C')\n",
        "      pdf.cell(-140)\n",
        "pdf.cell(35, 10, \"\", 0, 2)\n",
        "pdf.cell(20)\n",
        "pdf.image('iris_grouped_df.png', x = None, y = None, w = 0, h = 0, type = '', link = '')\n",
        "pdf.output('iris_grouped_df_1.pdf', 'F')\n",
        "\n",
        "     "
      ],
      "execution_count": 5,
      "outputs": [
        {
          "output_type": "stream",
          "text": [
            "Requirement already satisfied: fpdf in /usr/local/lib/python3.6/dist-packages (1.7.2)\n"
          ],
          "name": "stdout"
        },
        {
          "output_type": "execute_result",
          "data": {
            "application/vnd.google.colaboratory.intrinsic+json": {
              "type": "string"
            },
            "text/plain": [
              "''"
            ]
          },
          "metadata": {
            "tags": []
          },
          "execution_count": 5
        },
        {
          "output_type": "display_data",
          "data": {
            "image/png": "[encoded data removed]",
            "text/plain": [
              "<Figure size 432x288 with 1 Axes>"
            ]
          },
          "metadata": {
            "tags": [],
            "needs_background": "light"
          }
        }
      ]
    }
  ]
}