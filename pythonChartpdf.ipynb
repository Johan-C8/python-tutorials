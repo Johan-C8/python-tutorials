{
  "nbformat": 4,
  "nbformat_minor": 0,
  "metadata": {
    "colab": {
      "name": "pythonChartpdf.ipynb",
      "provenance": []
    },
    "kernelspec": {
      "name": "python3",
      "display_name": "Python 3"
    }
  },
  "cells": [
    {
      "cell_type": "code",
      "metadata": {
        "id": "9sCtYEQ58GlO",
        "outputId": "654a4de0-fa28-49cf-ee23-522cf3f819bd",
        "colab": {
          "base_uri": "https://localhost:8080/",
          "height": 173
        }
      },
      "source": [
        "import pandas as pd\n",
        "import numpy as np\n",
        "from sklearn.datasets import load_iris\n",
        "\n",
        "iris = load_iris()\n",
        "iris_df = pd.DataFrame(data= np.c_[iris['data'], iris['target']], columns= iris['feature_names'] + ['target'])\n",
        "\n",
        "iris_grouped_df = iris_df.groupby('target').mean().round(1)\n",
        "\n",
        "condition_list = [iris_grouped_df.index == 0,iris_grouped_df.index == 1,iris_grouped_df.index == 2]\n",
        "choice_list = ['setosa' , 'versicolor', 'virginica']\n",
        "iris_grouped_df['target_name'] = np.select(condition_list, choice_list, default='unknown')\n",
        "iris_grouped_df\n"
      ],
      "execution_count": null,
      "outputs": [
        {
          "output_type": "execute_result",
          "data": {
            "text/html": [
              "<div>\n",
              "<style scoped>\n",
              "    .dataframe tbody tr th:only-of-type {\n",
              "        vertical-align: middle;\n",
              "    }\n",
              "\n",
              "    .dataframe tbody tr th {\n",
              "        vertical-align: top;\n",
              "    }\n",
              "\n",
              "    .dataframe thead th {\n",
              "        text-align: right;\n",
              "    }\n",
              "</style>\n",
              "<table border=\"1\" class=\"dataframe\">\n",
              "  <thead>\n",
              "    <tr style=\"text-align: right;\">\n",
              "      <th></th>\n",
              "      <th>sepal length (cm)</th>\n",
              "      <th>sepal width (cm)</th>\n",
              "      <th>petal length (cm)</th>\n",
              "      <th>petal width (cm)</th>\n",
              "      <th>target_name</th>\n",
              "    </tr>\n",
              "    <tr>\n",
              "      <th>target</th>\n",
              "      <th></th>\n",
              "      <th></th>\n",
              "      <th></th>\n",
              "      <th></th>\n",
              "      <th></th>\n",
              "    </tr>\n",
              "  </thead>\n",
              "  <tbody>\n",
              "    <tr>\n",
              "      <th>0.0</th>\n",
              "      <td>5.0</td>\n",
              "      <td>3.4</td>\n",
              "      <td>1.5</td>\n",
              "      <td>0.2</td>\n",
              "      <td>setosa</td>\n",
              "    </tr>\n",
              "    <tr>\n",
              "      <th>1.0</th>\n",
              "      <td>5.9</td>\n",
              "      <td>2.8</td>\n",
              "      <td>4.3</td>\n",
              "      <td>1.3</td>\n",
              "      <td>versicolor</td>\n",
              "    </tr>\n",
              "    <tr>\n",
              "      <th>2.0</th>\n",
              "      <td>6.6</td>\n",
              "      <td>3.0</td>\n",
              "      <td>5.6</td>\n",
              "      <td>2.0</td>\n",
              "      <td>virginica</td>\n",
              "    </tr>\n",
              "  </tbody>\n",
              "</table>\n",
              "</div>"
            ],
            "text/plain": [
              "        sepal length (cm)  sepal width (cm)  ...  petal width (cm)  target_name\n",
              "target                                       ...                               \n",
              "0.0                   5.0               3.4  ...               0.2       setosa\n",
              "1.0                   5.9               2.8  ...               1.3   versicolor\n",
              "2.0                   6.6               3.0  ...               2.0    virginica\n",
              "\n",
              "[3 rows x 5 columns]"
            ]
          },
          "metadata": {
            "tags": []
          },
          "execution_count": 2
        }
      ]
    },
    {
      "cell_type": "markdown",
      "metadata": {
        "id": "E8R59Myy8Z2p"
      },
      "source": [
        "**Matplotlib Chart and Table in PDF example**"
      ]
    },
    {
      "cell_type": "code",
      "metadata": {
        "id": "7xbYMiTe8n6N",
        "outputId": "f5e13b23-f0cc-4cb8-e815-ef90280e875b",
        "colab": {
          "base_uri": "https://localhost:8080/",
          "height": 194
        }
      },
      "source": [
        "import matplotlib\n",
        "import matplotlib.pyplot as plt\n",
        "import numpy as np\n",
        "from pandas.plotting import table\n",
        "\n",
        "ax = plt.subplot(211)\n",
        "plt.title(\"Iris Dataset Average by Plant Type\")\n",
        "plt.ylabel('Centimeters (cm)')\n",
        "\n",
        "ticks = [4,8,12,16]\n",
        "a = [x - 1 for x in ticks]\n",
        "b = [x + 1 for x in ticks]\n",
        "\n",
        "plt.xticks([])\n",
        "\n",
        "plt.bar(a, iris_grouped_df.loc[0].values.tolist()[:-1], width=1, label=\"\".join(iris_grouped_df.loc[0].values.tolist()[-1:]))\n",
        "plt.bar(ticks, iris_grouped_df.loc[1].values.tolist()[:-1], width=1, label=\"\".join(iris_grouped_df.loc[1].values.tolist()[-1:]))\n",
        "plt.bar(b, iris_grouped_df.loc[2].values.tolist()[:-1], width=1, label=\"\".join(iris_grouped_df.loc[2].values.tolist()[-1:]))\n",
        "\n",
        "plt.legend()\n",
        "plt.axis([0, 20, 0, 8])\n",
        "\n",
        "table(ax, iris_grouped_df.drop(['target_name'], axis=1), loc='bottom')\n",
        "plt.savefig('iris_grouped_df.pdf')\n"
      ],
      "execution_count": null,
      "outputs": [
        {
          "output_type": "display_data",
          "data": {
            "image/png": "[encoded data removed]",
            "text/plain": [
              "<Figure size 432x288 with 1 Axes>"
            ]
          },
          "metadata": {
            "tags": [],
            "needs_background": "light"
          }
        }
      ]
    }
  ]
}