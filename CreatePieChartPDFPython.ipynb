{
  "nbformat": 4,
  "nbformat_minor": 0,
  "metadata": {
    "colab": {
      "name": "CreatePieChartPDFPython.ipynb",
      "provenance": []
    },
    "kernelspec": {
      "display_name": "Python 3",
      "name": "python3"
    }
  },
  "cells": [
    {
      "cell_type": "markdown",
      "metadata": {
        "id": "a8T9mBjYWB8b"
      },
      "source": [
        "**Pie Chart**\n",
        "\n",
        "For this example I'm using the California housing data set from sci-kit learn library.  We'll look at the percentage of houses in Average Bedroom number categories."
      ]
    },
    {
      "cell_type": "code",
      "metadata": {
        "colab": {
          "base_uri": "https://localhost:8080/"
        },
        "id": "mIy1CKQg2Hse",
        "outputId": "45f7a4c7-c9e1-41c9-84a4-6126205ee5f4"
      },
      "source": [
        "import pandas as pd\n",
        "import numpy as np\n",
        "from sklearn.datasets import fetch_california_housing\n",
        "\n",
        "cal = fetch_california_housing()\n",
        "cal_df = pd.DataFrame(data=np.c_[cal['data'], cal['target']], columns=list(cal['feature_names']) + ['target'])\n",
        "# Now I round the Average Number of Bedrooms (for a block) to the neareat integer and 10+ bedrooms go in their own category\n",
        "cal_df['AveRoomsRounded'] = cal_df['AveRooms'].round(decimals=0).astype(int)\n",
        "\n",
        "# And now I categorize based on their range\n",
        "cal_df.loc[cal_df.AveRoomsRounded > 9, 'AveRoomsBin'] = '+10'\n",
        "cal_df.loc[(cal_df.AveRoomsRounded > 7) & (cal_df.AveRoomsRounded < 10), 'AveRoomsBin'] = '8-9'\n",
        "cal_df.loc[(cal_df.AveRoomsRounded > 5) & (cal_df.AveRoomsRounded < 8), 'AveRoomsBin'] = '6-7'\n",
        "cal_df.loc[(cal_df.AveRoomsRounded > 3) & (cal_df.AveRoomsRounded < 6), 'AveRoomsBin'] = '4-5'\n",
        "cal_df.loc[cal_df.AveRoomsRounded < 4, 'AveRoomsBin'] = '<=3'\n",
        "\n",
        "#Uncommment the print functions below to see more about the data\n",
        "#print(cal_df['AveRoomsBin'].value_counts(normalize=True))\n",
        "#print(cal_df['AveRoomsRounded'].value_counts(normalize=True))\n",
        "#print(cal.DESCR) #good for any scikit learn dataset\n",
        "\n",
        "cal_df_binned = cal_df['AveRoomsBin'].value_counts(normalize=True).rename_axis('AveRooms').reset_index(name='percentage')\n",
        "print(cal_df_binned)"
      ],
      "execution_count": 5,
      "outputs": [
        {
          "output_type": "stream",
          "text": [
            "  AveRooms  percentage\n",
            "0      4-5    0.535901\n",
            "1      6-7    0.349516\n",
            "2      <=3    0.057171\n",
            "3      8-9    0.044816\n",
            "4      +10    0.012597\n"
          ],
          "name": "stdout"
        }
      ]
    },
    {
      "cell_type": "markdown",
      "metadata": {
        "id": "3BzFkg5xgfj6"
      },
      "source": [
        "Using FPDF and Matlotlip libraries to generate a pdf with the pie chart and an accompanying table"
      ]
    },
    {
      "cell_type": "code",
      "metadata": {
        "colab": {
          "base_uri": "https://localhost:8080/",
          "height": 229
        },
        "id": "MhHTVD2i5N4-",
        "outputId": "2f2a5a29-9964-4cdd-de84-297ef8c6f361"
      },
      "source": [
        "!pip install fpdf\n",
        "from fpdf import FPDF\n",
        "import matplotlib\n",
        "import matplotlib.pyplot as plt\n",
        "\n",
        "fig, ax = plt.subplots()\n",
        "fig.set_size_inches(3, 3)\n",
        "wedges, autotexts = ax.pie(cal_df_binned['percentage'], startangle=90)\n",
        "plt.legend(wedges, cal_df_binned['AveRooms'], loc='lower right')\n",
        "plt.savefig('cal_df_binned.png')\n",
        "\n",
        "pdf=FPDF(format='letter')\n",
        "pdf.add_page() #always needed\n",
        "pdf.set_font('arial', 'B', 11)\n",
        "pdf.cell(60)\n",
        "pdf.cell(75, 10, 'California Housing Room Numbers per House', 0, 2, 'C')\n",
        "pdf.cell(90, 10, '', 0, 2, 'C')\n",
        "\n",
        "columnNameList = list(cal_df_binned.columns)\n",
        "for header in columnNameList[:-1]:\n",
        "  pdf.cell(35, 10, header, 1, 0, 'C')\n",
        "pdf.cell(35, 10, columnNameList[-1], 1, 1, 'C')\n",
        "pdf.set_font('arial', '', 11)\n",
        "\n",
        "for i in range(0, len(cal_df_binned)):\n",
        "  pdf.cell(60)\n",
        "  pdf.cell(35, 10, cal_df_binned['AveRooms'][i], 1, 0, 'C')\n",
        "  pdf.cell(35, 10, str(round(100 * cal_df_binned['percentage'][i], 2)), 1, 1, 'C')\n",
        "pdf.cell(90, 10, '', 0, 2, 'C')\n",
        "pdf.cell(55, 10, '', 0, 0, 'C')\n",
        "\n",
        "#insert chart\n",
        "pdf.image('cal_df_binned.png', x = None, y = None, w=0, h=0, type='', link='')\n",
        "pdf.output('cal_df_binned.pdf', 'F')\n",
        "\n"
      ],
      "execution_count": 7,
      "outputs": [
        {
          "output_type": "stream",
          "text": [
            "Requirement already satisfied: fpdf in /usr/local/lib/python3.6/dist-packages (1.7.2)\n"
          ],
          "name": "stdout"
        },
        {
          "output_type": "execute_result",
          "data": {
            "application/vnd.google.colaboratory.intrinsic+json": {
              "type": "string"
            },
            "text/plain": [
              "''"
            ]
          },
          "metadata": {
            "tags": []
          },
          "execution_count": 7
        },
        {
          "output_type": "display_data",
          "data": {
            "image/png": "[encoded data removed]",
            "text/plain": [
              "<Figure size 216x216 with 1 Axes>"
            ]
          },
          "metadata": {
            "tags": []
          }
        }
      ]
    }
  ]
}