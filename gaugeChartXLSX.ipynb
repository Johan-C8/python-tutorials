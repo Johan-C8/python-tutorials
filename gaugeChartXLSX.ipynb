{
  "nbformat": 4,
  "nbformat_minor": 0,
  "metadata": {
    "colab": {
      "name": "gaugeChartXLSX.ipynb",
      "provenance": []
    },
    "kernelspec": {
      "name": "python3",
      "display_name": "Python 3"
    },
    "language_info": {
      "name": "python"
    }
  },
  "cells": [
    {
      "cell_type": "markdown",
      "metadata": {
        "id": "Atzj4KB4oGbw"
      },
      "source": [
        "Creating a Gauge Chart using xlsxwriter and python\n",
        "\n",
        "An example in the xlsxwriter documentation:\n",
        "https://xlsxwriter.readthedocs.io/example_chart_gauge.html"
      ]
    },
    {
      "cell_type": "code",
      "metadata": {
        "colab": {
          "base_uri": "https://localhost:8080/"
        },
        "id": "-LWwqE-pXN0F",
        "outputId": "3faa2125-015f-4b37-bc77-96604970f989"
      },
      "source": [
        "#pulling in data for the gauge chart\n",
        "import pandas_datareader.data as data\n",
        "import pandas as pd\n",
        "import datetime\n",
        "\n",
        "umcsent_df = data.DataReader(\"UMCSENT\", 'fred', datetime.datetime(2000,12,31))\n",
        "umcsent_df['perc'] = (umcsent_df['UMCSENT'] / umcsent_df['UMCSENT'].max()) * 100\n",
        "umcsent_df['xlsx_date'] = umcsent_df.index - datetime.datetime(1899, 12, 31)\n",
        "print(umcsent_df.tail(10))\n",
        "\n",
        "current_date = umcsent_df.index[-1].strftime(\"%B\") + '-' + umcsent_df.index[-1].strftime(\"%Y\")\n",
        "current_value = umcsent_df['perc'].iloc[-1] / 100"
      ],
      "execution_count": null,
      "outputs": [
        {
          "output_type": "stream",
          "text": [
            "            UMCSENT       perc  xlsx_date\n",
            "DATE                                     \n",
            "2020-06-01     78.1  75.240848 43982 days\n",
            "2020-07-01     72.5  69.845857 44012 days\n",
            "2020-08-01     74.1  71.387283 44043 days\n",
            "2020-09-01     80.4  77.456647 44074 days\n",
            "2020-10-01     81.8  78.805395 44104 days\n",
            "2020-11-01     76.9  74.084778 44135 days\n",
            "2020-12-01     80.7  77.745665 44165 days\n",
            "2021-01-01     79.0  76.107900 44196 days\n",
            "2021-02-01     76.8  73.988439 44227 days\n",
            "2021-03-01     84.9  81.791908 44255 days\n"
          ],
          "name": "stdout"
        }
      ]
    },
    {
      "cell_type": "code",
      "metadata": {
        "colab": {
          "base_uri": "https://localhost:8080/"
        },
        "id": "XqVHkdtAZrW0",
        "outputId": "2b933188-59f9-4220-d084-0f52007eda4b"
      },
      "source": [
        "!pip install xlsxwriter\n",
        "import xlsxwriter\n",
        "\n",
        "workbook = xlsxwriter.Workbook('gaugeChartXLSX.xlsx')\n",
        "worksheet = workbook.add_worksheet()\n",
        "\n",
        "chart_doughnut = workbook.add_chart({'type': 'doughnut'})\n",
        "chart_pie = workbook.add_chart({'type': 'pie'})\n",
        "\n",
        "# Making the doughnut chart. IMO - best way to do is to sum it to 360 (180 is blank)\n",
        "chart_doughnut.add_series({\n",
        "    'values': '{36,36,36,36,36,180}',\n",
        "    'points': [\n",
        "               {'fill': {'color': 'red'}},\n",
        "               {'fill': {'color': 'orange'}},\n",
        "               {'fill': {'color': 'yellow'}},\n",
        "               {'fill': {'color': 'lime'}},\n",
        "               {'fill': {'color': 'green'}},\n",
        "               {'fill': {'none': True}},\n",
        "    ]\n",
        "})\n",
        "\n",
        "#Rotate the chart so it's above horizontal and turning off the legend/border\n",
        "chart_doughnut.set_rotation(270)\n",
        "chart_doughnut.set_chartarea({\n",
        "    'border': {'none': True},\n",
        "    'fill': {'none': True},\n",
        "})\n",
        "chart_doughnut.set_legend({'none': True})\n",
        "\n",
        "#Pie Chart - setting the needle on the gauge chart. Sum it to 180, e.g., {89, 1, 90}.\n",
        "point_a = round(current_value * 89)\n",
        "point_c = round((1-current_value) * 89) + 90\n",
        "cust_labels = [\n",
        "    {'value': ''},\n",
        "    {'value': '%d' % (round(current_value*100, 1))},\n",
        "    {'value': ''},\n",
        "]\n",
        "chart_pie.add_series({\n",
        "    'name': ' ',\n",
        "    'values': '{%d,1,%d}' % (point_a, point_c),\n",
        "    'points': [\n",
        "        {'fill': {'none': True}},\n",
        "        {'fill': {'color': 'black'}},\n",
        "        {'fill': {'none': True}}],\n",
        "    'data_labels':{ \n",
        "         'border': {'color': 'red'},\n",
        "         'fill':   {'color': 'yellow'},\n",
        "         'custom': cust_labels},\n",
        "})\n",
        "\n",
        "# Rotate the pie chart too\n",
        "chart_pie.set_rotation(270)\n",
        "\n",
        "#combine charts / give title / inset into worksheet\n",
        "chart_doughnut.combine(chart_pie)\n",
        "chart_doughnut.set_title({'name': 'UMCSENT %s' % (current_date)})\n",
        "worksheet.insert_chart('A1', chart_doughnut)\n",
        "\n",
        "#adding simpleline chart and data for context for the user\n",
        "dateFormat = workbook.add_format({'num_format': 'mmm-yy'})\n",
        "chart = workbook.add_chart({'type': 'line'})\n",
        "chart.set_title({'name': 'UMCSENT (Jan-2001 to %s' % (current_date)})\n",
        "worksheet.write_column('H2', umcsent_df['xlsx_date'], dateFormat)\n",
        "worksheet.write_column('I2', umcsent_df['UMCSENT'])\n",
        "chart.add_series({\n",
        "    'values': '=Sheet1!$I$2:$I$%d' % (len(umcsent_df)),\n",
        "    'categories': '=Sheet1!$H$2:$H$%d' % (len(umcsent_df)),\n",
        "})\n",
        "worksheet.insert_chart('K2', chart)\n",
        "\n",
        "workbook.close()"
      ],
      "execution_count": null,
      "outputs": [
        {
          "output_type": "stream",
          "text": [
            "Requirement already satisfied: xlsxwriter in /usr/local/lib/python3.7/dist-packages (1.4.3)\n"
          ],
          "name": "stdout"
        }
      ]
    }
  ]
}