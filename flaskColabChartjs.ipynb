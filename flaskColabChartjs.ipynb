{
  "nbformat": 4,
  "nbformat_minor": 0,
  "metadata": {
    "colab": {
      "name": "flaskColabChartjs.ipynb",
      "provenance": []
    },
    "kernelspec": {
      "name": "python3",
      "display_name": "Python 3"
    }
  },
  "cells": [
    {
      "cell_type": "markdown",
      "metadata": {
        "id": "2ylCSq1NNMsS"
      },
      "source": [
        "First off let's create a couple of useful directories. We will use the template folder in this example."
      ]
    },
    {
      "cell_type": "code",
      "metadata": {
        "id": "TNeb71Z_M4pQ"
      },
      "source": [
        "import os\n",
        "\n",
        "if not os.path.exists('templates'):\n",
        "  os.makedirs('templates')\n",
        "if not os.path.exists('static'):\n",
        "  os.makedirs('static')\n"
      ],
      "execution_count": null,
      "outputs": []
    },
    {
      "cell_type": "markdown",
      "metadata": {
        "id": "RJEqi1IDNvmK"
      },
      "source": [
        "Now we'll write out an html file and make use of the python jinja library in the process."
      ]
    },
    {
      "cell_type": "code",
      "metadata": {
        "id": "fwI5RtGtN-ub"
      },
      "source": [
        "chart = '''\n",
        "<!DOCTYPE html>\n",
        "<html lang=\"en\">\n",
        "<head>\n",
        "  <title>Chartjs Flask Colab Example</title>\n",
        "  <canvas id=\"myChart\" width=\"600\" height=\"500\"></canvas>\n",
        "<script src=\"https://cdnjs.cloudflare.com/ajax/libs/Chart.js/2.5.0/Chart.min.js\"></script>\n",
        "<script type=\"text/javascript\">\n",
        "\n",
        "Chart.defaults.global.responsive = false;\n",
        " \n",
        "// defining the chart data\n",
        "let data = {\n",
        "  labels : [{% for i in labels %}\n",
        "             \"{{i}}\",\n",
        "            {% endfor %}],\n",
        "  datasets : [{\n",
        "      label: '{{ legend }}',\n",
        "      fill: true,\n",
        "      data : [{% for j in values %}\n",
        "                {{j}},\n",
        "              {% endfor %}]\n",
        "  }]\n",
        "}\n",
        "\n",
        "let ctx = document.getElementById(\"myChart\").getContext(\"2d\");\n",
        " \n",
        "// creating the chart using canvas\n",
        "let myChart = new Chart(ctx, {\n",
        "  type: 'line',\n",
        "  data: data,\n",
        "});\n",
        "</script>\n",
        "</head>\n",
        "</html>\n",
        "'''\n",
        "\n",
        "file=open(\"templates/chart.html\", \"w\")\n",
        "file.write(chart)\n",
        "file.close()\n"
      ],
      "execution_count": null,
      "outputs": []
    },
    {
      "cell_type": "markdown",
      "metadata": {
        "id": "TFOAG_LUR4R8"
      },
      "source": [
        "For test data I'm going to use the US Unemployment rate data for 2020 retrieved using the pandas-datareader library."
      ]
    },
    {
      "cell_type": "code",
      "metadata": {
        "id": "yTS8aEyHSE7e"
      },
      "source": [
        "import pandas_datareader.data as data\n",
        "import datetime\n",
        "import pandas as pd\n",
        "\n",
        "#US Unemployment Rate\n",
        "unemp_df = data.DataReader(\"UNRATE\", \"fred\", datetime.datetime(2020, 1, 1), datetime.datetime(2020, 12, 30))\n",
        "unemp_df['month'] = unemp_df.index.month_name()\n",
        "#print(unemp_df)"
      ],
      "execution_count": null,
      "outputs": []
    },
    {
      "cell_type": "markdown",
      "metadata": {
        "id": "xBJA8zjAS8Gt"
      },
      "source": [
        "Time to run Flask and preview with ngrok."
      ]
    },
    {
      "cell_type": "code",
      "metadata": {
        "colab": {
          "base_uri": "https://localhost:8080/"
        },
        "id": "8n6JkTD0S6t9",
        "outputId": "e009d527-b206-466b-f9c2-c02f2112f44c"
      },
      "source": [
        "!pip install flask_ngrok\n",
        "from flask_ngrok import run_with_ngrok\n",
        "from flask import Flask, render_template\n",
        "\n",
        "app = Flask(__name__)\n",
        "run_with_ngrok(app)\n",
        "@app.route(\"/\")\n",
        "def chart():\n",
        "  legend = \"US Unemployment Rate in 2020\"\n",
        "  u_rate = unemp_df['UNRATE'].tolist()\n",
        "  months = unemp_df['month'].tolist()\n",
        "  return render_template('chart.html', values=u_rate, labels=months, legend=legend)\n",
        "\n",
        "app.run()\n",
        "\n",
        "\n",
        "\n",
        "\n"
      ],
      "execution_count": null,
      "outputs": [
        {
          "output_type": "stream",
          "text": [
            "Requirement already satisfied: flask_ngrok in /usr/local/lib/python3.6/dist-packages (0.0.25)\n",
            "Requirement already satisfied: requests in /usr/local/lib/python3.6/dist-packages (from flask_ngrok) (2.23.0)\n",
            "Requirement already satisfied: Flask>=0.8 in /usr/local/lib/python3.6/dist-packages (from flask_ngrok) (1.1.2)\n",
            "Requirement already satisfied: urllib3!=1.25.0,!=1.25.1,<1.26,>=1.21.1 in /usr/local/lib/python3.6/dist-packages (from requests->flask_ngrok) (1.24.3)\n",
            "Requirement already satisfied: chardet<4,>=3.0.2 in /usr/local/lib/python3.6/dist-packages (from requests->flask_ngrok) (3.0.4)\n",
            "Requirement already satisfied: idna<3,>=2.5 in /usr/local/lib/python3.6/dist-packages (from requests->flask_ngrok) (2.10)\n",
            "Requirement already satisfied: certifi>=2017.4.17 in /usr/local/lib/python3.6/dist-packages (from requests->flask_ngrok) (2020.6.20)\n",
            "Requirement already satisfied: itsdangerous>=0.24 in /usr/local/lib/python3.6/dist-packages (from Flask>=0.8->flask_ngrok) (1.1.0)\n",
            "Requirement already satisfied: click>=5.1 in /usr/local/lib/python3.6/dist-packages (from Flask>=0.8->flask_ngrok) (7.1.2)\n",
            "Requirement already satisfied: Werkzeug>=0.15 in /usr/local/lib/python3.6/dist-packages (from Flask>=0.8->flask_ngrok) (1.0.1)\n",
            "Requirement already satisfied: Jinja2>=2.10.1 in /usr/local/lib/python3.6/dist-packages (from Flask>=0.8->flask_ngrok) (2.11.2)\n",
            "Requirement already satisfied: MarkupSafe>=0.23 in /usr/local/lib/python3.6/dist-packages (from Jinja2>=2.10.1->Flask>=0.8->flask_ngrok) (1.1.1)\n",
            " * Serving Flask app \"__main__\" (lazy loading)\n",
            " * Environment: production\n",
            "\u001b[31m   WARNING: This is a development server. Do not use it in a production deployment.\u001b[0m\n",
            "\u001b[2m   Use a production WSGI server instead.\u001b[0m\n",
            " * Debug mode: off\n"
          ],
          "name": "stdout"
        },
        {
          "output_type": "stream",
          "text": [
            " * Running on http://127.0.0.1:5000/ (Press CTRL+C to quit)\n"
          ],
          "name": "stderr"
        },
        {
          "output_type": "stream",
          "text": [
            " * Running on http://c9a35345a6c2.ngrok.io\n",
            " * Traffic stats available on http://127.0.0.1:4040\n"
          ],
          "name": "stdout"
        },
        {
          "output_type": "stream",
          "text": [
            "127.0.0.1 - - [18/Nov/2020 21:50:57] \"\u001b[37mGET / HTTP/1.1\u001b[0m\" 200 -\n",
            "127.0.0.1 - - [18/Nov/2020 21:50:57] \"\u001b[33mGET /favicon.ico HTTP/1.1\u001b[0m\" 404 -\n"
          ],
          "name": "stderr"
        }
      ]
    }
  ]
}