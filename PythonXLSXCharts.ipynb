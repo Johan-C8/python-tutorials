{
  "nbformat": 4,
  "nbformat_minor": 0,
  "metadata": {
    "colab": {
      "name": "PythonXLSXCharts.ipynb",
      "provenance": [],
      "collapsed_sections": []
    },
    "kernelspec": {
      "name": "python3",
      "display_name": "Python 3"
    }
  },
  "cells": [
    {
      "cell_type": "markdown",
      "metadata": {
        "id": "cQ8aurmoE82p",
        "colab_type": "text"
      },
      "source": [
        "**Column Charts**\n",
        "\n",
        "For this example I'm using the Iris data set from sci-kit learn library (if you're not familiar with this library or dataset then don't worry ....  I'm just using them to get data for a fully reproducible example)\n",
        "\n",
        "I use `pandas.DataFrame.to_excel()` (Docs: https://pandas.pydata.org/pandas-docs/stable/reference/api/pandas.DataFrame.to_excel.html) and `pandas.ExcelWriter()` (Docs: https://pandas.pydata.org/pandas-docs/stable/reference/api/pandas.ExcelWriter.html)\n",
        "\n",
        "A lot of the documentation useful documentation on xlsxwriter chart class: https://xlsxwriter.readthedocs.io/chart.html "
      ]
    },
    {
      "cell_type": "code",
      "metadata": {
        "id": "e8xTM2mhE1I8",
        "colab_type": "code",
        "colab": {
          "base_uri": "https://localhost:8080/",
          "height": 241
        },
        "outputId": "6bca5e6f-02e8-4ccc-e564-79dabc9e9f74"
      },
      "source": [
        "!pip install xlsxwriter\n",
        "import xlsxwriter\n",
        "import pandas as pd\n",
        "import numpy as np\n",
        "from sklearn.datasets import load_iris\n",
        "\n",
        "iris = load_iris()\n",
        "iris_df = pd.DataFrame(data= np.c_[iris['data'], iris['target']], columns= iris['feature_names'] + ['target'])\n",
        "\n",
        "iris_grouped_df = iris_df.groupby('target').mean()\n",
        "\n",
        "condition_list = [iris_grouped_df.index == 0,iris_grouped_df.index == 1,iris_grouped_df.index == 2]\n",
        "choice_list = ['setosa' , 'versicolor', 'virginica']\n",
        "iris_grouped_df['target_name'] = np.select(condition_list, choice_list, default='unknown')\n",
        "\n",
        "print(iris_grouped_df)\n",
        "\n",
        "with pd.ExcelWriter('iris_column_chart.xlsx') as writer:\n",
        "    iris_grouped_df.to_excel(writer, index=False)\n",
        "    wb = writer.book\n",
        "    chart = wb.add_chart({'type': 'column'})\n",
        "    ws = writer.sheets['Sheet1']\n",
        "    chart.add_series({'name': '=Sheet1!E2', 'values': '=Sheet1!$A$2:$D$2', 'categories': '=Sheet1!$A$1:$D$1'})\n",
        "    chart.add_series({'name': '=Sheet1!E3', 'values': '=Sheet1!$A$3:$D$3', 'categories': '=Sheet1!$A$1:$D$1'})\n",
        "    chart.add_series({ 'name': '=Sheet1!E4', 'values': '=Sheet1!$A$4:$D$4', 'categories': '=Sheet1!$A$1:$D$1'})\n",
        "    ws.insert_chart('G2', chart)\n",
        "    wb.close()"
      ],
      "execution_count": null,
      "outputs": [
        {
          "output_type": "stream",
          "text": [
            "Collecting xlsxwriter\n",
            "\u001b[?25l  Downloading https://files.pythonhosted.org/packages/00/1f/2092a81056d36c1b6651a645aa84c1f76bcee03103072d4fe1cb58501d69/XlsxWriter-1.2.8-py2.py3-none-any.whl (141kB)\n",
            "\r\u001b[K     |██▎                             | 10kB 20.8MB/s eta 0:00:01\r\u001b[K     |████▋                           | 20kB 1.8MB/s eta 0:00:01\r\u001b[K     |███████                         | 30kB 2.6MB/s eta 0:00:01\r\u001b[K     |█████████▎                      | 40kB 1.7MB/s eta 0:00:01\r\u001b[K     |███████████▋                    | 51kB 2.2MB/s eta 0:00:01\r\u001b[K     |██████████████                  | 61kB 2.6MB/s eta 0:00:01\r\u001b[K     |████████████████▏               | 71kB 3.0MB/s eta 0:00:01\r\u001b[K     |██████████████████▌             | 81kB 2.3MB/s eta 0:00:01\r\u001b[K     |████████████████████▉           | 92kB 2.6MB/s eta 0:00:01\r\u001b[K     |███████████████████████▏        | 102kB 2.9MB/s eta 0:00:01\r\u001b[K     |█████████████████████████▌      | 112kB 2.9MB/s eta 0:00:01\r\u001b[K     |███████████████████████████▉    | 122kB 2.9MB/s eta 0:00:01\r\u001b[K     |██████████████████████████████  | 133kB 2.9MB/s eta 0:00:01\r\u001b[K     |████████████████████████████████| 143kB 2.9MB/s \n",
            "\u001b[?25hInstalling collected packages: xlsxwriter\n",
            "Successfully installed xlsxwriter-1.2.8\n",
            "        sepal length (cm)  sepal width (cm)  ...  petal width (cm)  target_name\n",
            "target                                       ...                               \n",
            "0.0                 5.006             3.428  ...             0.246       setosa\n",
            "1.0                 5.936             2.770  ...             1.326   versicolor\n",
            "2.0                 6.588             2.974  ...             2.026    virginica\n",
            "\n",
            "[3 rows x 5 columns]\n"
          ],
          "name": "stdout"
        }
      ]
    },
    {
      "cell_type": "markdown",
      "metadata": {
        "id": "EQm2nhrZsW0z",
        "colab_type": "text"
      },
      "source": [
        "**Pie Charts**\n",
        "\n",
        "For this example I'm using the California housing data set from sci-kit learn library.  We'll look at the percentage of houses in Average Bedroom number categories.\n",
        "\n",
        "Similar to the Column Chart example, I use `pandas.DataFrame.to_excel()` (Docs: https://pandas.pydata.org/pandas-docs/stable/reference/api/pandas.DataFrame.to_excel.html) and `pandas.ExcelWriter()` (Docs: https://pandas.pydata.org/pandas-docs/stable/reference/api/pandas.ExcelWriter.html)\n"
      ]
    },
    {
      "cell_type": "code",
      "metadata": {
        "id": "o0TdCvGOE8Hu",
        "colab_type": "code",
        "colab": {
          "base_uri": "https://localhost:8080/",
          "height": 51
        },
        "outputId": "111d4b5b-e177-49dd-ad85-dc92255fdb71"
      },
      "source": [
        "!pip install xlsxwriter\n",
        "import xlsxwriter\n",
        "import pandas as pd\n",
        "import numpy as np\n",
        "from sklearn.datasets import fetch_california_housing\n",
        "\n",
        "cal = fetch_california_housing()\n",
        "\n",
        "cal_df = pd.DataFrame(data=np.c_[cal['data'], cal['target']],columns= list(cal['feature_names']) + ['target'])\n",
        "# Here I round the average number of bedrooms (for a block) to the nearest integer and then any with 10 or more rooms I put in it's own category \n",
        "cal_df['AveRoomsRounded'] = cal_df['AveRooms'].round(decimals=0).astype(int)\n",
        "\n",
        "cal_df.loc[cal_df.AveRoomsRounded > 9, 'AveRoomsBin'] = '10+'\n",
        "cal_df.loc[(cal_df.AveRoomsRounded > 7) &  (cal_df.AveRoomsRounded < 10), 'AveRoomsBin'] = '8-9'\n",
        "cal_df.loc[(cal_df.AveRoomsRounded > 5) &  (cal_df.AveRoomsRounded < 8), 'AveRoomsBin'] = '6-7'\n",
        "cal_df.loc[(cal_df.AveRoomsRounded > 3) &  (cal_df.AveRoomsRounded < 6), 'AveRoomsBin'] = '4-5'\n",
        "cal_df.loc[cal_df.AveRoomsRounded < 4, 'AveRoomsBin'] = '<=3'\n",
        "\n",
        "#If you use the print functions below it gives you a sense of how we're binning these by Ave Rooms\n",
        "#You'll see that one block in the Data set has an average of 142 rooms per house. Wow!\n",
        "#print(cal_df['AveRoomsBin'].value_counts(normalize=True))\n",
        "#print(cal_df['AveRoomsRounded'].value_counts(normalize=True))\n",
        "#print(cal.DESCR)\n",
        "\n",
        "cal_df_binned = cal_df['AveRoomsBin'].value_counts(normalize=True).rename_axis('AveRooms').reset_index(name='percentage')\n",
        "\n",
        "with pd.ExcelWriter('california_housing_pie_chart.xlsx') as writer:\n",
        "    cal_df_binned.to_excel(writer, index=False)\n",
        "    wb = writer.book\n",
        "    chart = wb.add_chart({'type': 'pie'})\n",
        "    chart.set_title({'name': 'Average Rooms per Dwelling'})\n",
        "    ws = writer.sheets['Sheet1']\n",
        "    chart.add_series({'name': 'Average Rooms per Dwelling', 'values': '=Sheet1!$B$2:$B$6', 'categories': '=Sheet1!$A$2:$A$6'})\n",
        "    ws.insert_chart('D2', chart)\n",
        "    wb.close()\n",
        "\n"
      ],
      "execution_count": null,
      "outputs": [
        {
          "output_type": "stream",
          "text": [
            "Requirement already satisfied: xlsxwriter in /usr/local/lib/python3.6/dist-packages (1.2.8)\n"
          ],
          "name": "stdout"
        },
        {
          "output_type": "stream",
          "text": [
            "Downloading Cal. housing from https://ndownloader.figshare.com/files/5976036 to /root/scikit_learn_data\n"
          ],
          "name": "stderr"
        }
      ]
    },
    {
      "cell_type": "markdown",
      "metadata": {
        "id": "rNHWVykpGNOe",
        "colab_type": "text"
      },
      "source": [
        "**Line Charts**\n",
        "\n",
        "For this example I'm using the US Unemployment Rate retrieved using pandas-datareader python library.  We'll look at producing time series charts in excel\n",
        "\n",
        "Similar to other Chart examples, I use `pandas.DataFrame.to_excel()` (Docs: https://pandas.pydata.org/pandas-docs/stable/reference/api/pandas.DataFrame.to_excel.html) and `pandas.ExcelWriter()` (Docs: https://pandas.pydata.org/pandas-docs/stable/reference/api/pandas.ExcelWriter.html)\n",
        "\n",
        "This is the most detailed example thus far as we'll look at transforming a python date to an excel date and demonstrate how to chart time series data with a line chart.\n",
        "\n"
      ]
    },
    {
      "cell_type": "code",
      "metadata": {
        "id": "zZooVeqZGmKL",
        "colab_type": "code",
        "colab": {
          "base_uri": "https://localhost:8080/",
          "height": 207
        },
        "outputId": "d2cd7405-b3f7-4703-e754-4304b287d5fe"
      },
      "source": [
        "!pip install xlsxwriter\n",
        "import pandas_datareader.data as data\n",
        "import datetime\n",
        "\n",
        "start = datetime.datetime(2000, 1, 1)\n",
        "end = datetime.datetime(2019, 12, 1)\n",
        "\n",
        "#Unemployment Rate\n",
        "unemp_df = data.DataReader(\"UNRATE\", \"fred\", start, end)\n",
        "unemp_df['xlsx_date'] = unemp_df.index - datetime.datetime(1899, 12, 31)\n",
        "\n",
        "print(unemp_df.head())\n",
        "\n",
        "with pd.ExcelWriter('Unemployment_Rate_line_chart.xlsx') as writer:\n",
        "    unemp_df.to_excel(writer, index=False)\n",
        "    wb = writer.book\n",
        "    dateFormat = wb.add_format({'num_format':'mmm-yy'})\n",
        "    chart = wb.add_chart({'type': 'line'})\n",
        "    chart.set_title({'name': 'US Unemployment Rate (2000-2019)'})\n",
        "    ws = writer.sheets['Sheet1']\n",
        "    ws.write_column('B2', unemp_df['xlsx_date'], dateFormat) #overwriting number with formatted date\n",
        "    chart.add_series({'name': 'US Unemployment Rate (2000-2019)', 'values': '=Sheet1!$A$2:$A$%d' % (len(unemp_df)), 'categories': '=Sheet1!$B$2:$B$%d' % (len(unemp_df))})\n",
        "    ws.insert_chart('D2', chart)\n",
        "    wb.close()\n"
      ],
      "execution_count": null,
      "outputs": [
        {
          "output_type": "stream",
          "text": [
            "Requirement already satisfied: xlsxwriter in /usr/local/lib/python3.6/dist-packages (1.2.8)\n"
          ],
          "name": "stdout"
        },
        {
          "output_type": "stream",
          "text": [
            "/usr/local/lib/python3.6/dist-packages/pandas_datareader/compat/__init__.py:7: FutureWarning: pandas.util.testing is deprecated. Use the functions in the public API at pandas.testing instead.\n",
            "  from pandas.util.testing import assert_frame_equal\n"
          ],
          "name": "stderr"
        },
        {
          "output_type": "stream",
          "text": [
            "            UNRATE  xlsx_date\n",
            "DATE                         \n",
            "2000-01-01     4.0 36525 days\n",
            "2000-02-01     4.1 36556 days\n",
            "2000-03-01     4.0 36585 days\n",
            "2000-04-01     3.8 36616 days\n",
            "2000-05-01     4.0 36646 days\n"
          ],
          "name": "stdout"
        }
      ]
    },
    {
      "cell_type": "markdown",
      "metadata": {
        "id": "rAPi4i248-0j",
        "colab_type": "text"
      },
      "source": [
        "**Scatter Charts**\n",
        "\n",
        "For this example we will return to the Iris Data Set from sci-kit learn library. \n",
        "\n",
        "I use pandas.DataFrame.to_excel() and pandas.ExcelWriter() to create the workbook.\n",
        "\n",
        "A lot of useful documentation on xlsxwriter chart class: https://xlsxwriter.readthedocs.io/chart.html. And Specifically for Scatter Plots https://xlsxwriter.readthedocs.io/example_chart_scatter.html"
      ]
    },
    {
      "cell_type": "code",
      "metadata": {
        "id": "Fzm0n0Fh-Y5N",
        "colab_type": "code",
        "colab": {
          "base_uri": "https://localhost:8080/",
          "height": 85
        },
        "outputId": "5a644d9d-0e33-4a01-d4cd-536092df6428"
      },
      "source": [
        "!pip install xlsxwriter\n",
        "import xlsxwriter\n",
        "import pandas as pd\n",
        "import numpy as np\n",
        "from sklearn.datasets import load_iris\n",
        "\n",
        "iris = load_iris()\n",
        "iris_df = pd.DataFrame(data= np.c_[iris['data'], iris['target']], columns= iris['feature_names'] + ['target'])\n",
        "\n",
        "condition_list = [iris_df.target == 0, iris_df.target == 1, iris_df.target == 2]\n",
        "choice_list = ['setosa' , 'versicolor', 'virginica']\n",
        "iris_df['target_name'] = np.select(condition_list, choice_list, default='unknown')\n",
        "\n",
        "\n",
        "with pd.ExcelWriter('iris_scatter_chart.xlsx') as writer:\n",
        "    iris_df.to_excel(writer, index=False)\n",
        "    wb = writer.book\n",
        "    chart = wb.add_chart({'type': 'scatter'})\n",
        "    ws = writer.sheets['Sheet1']\n",
        "    chart.set_title ({'name': 'Sepal Width vs. Sepal Length (in centimeters)'})\n",
        "    for i, j in enumerate(choice_list):\n",
        "      rowStart = (i * len(iris_df[(iris_df['target_name'] == j)])) + 2\n",
        "      rowEnd = ((i+1) * len(iris_df[(iris_df['target_name'] == j)])) + 1\n",
        "      chart.add_series({'name': j, 'values': '=Sheet1!$A$%d:$A$%d' % (rowStart, rowEnd), 'categories': '=Sheet1!$B$%d:$B$%d' % (rowStart, rowEnd)})\n",
        "    ws.insert_chart('I2', chart)\n",
        "    wb.close()\n"
      ],
      "execution_count": null,
      "outputs": [
        {
          "output_type": "stream",
          "text": [
            "Requirement already satisfied: xlsxwriter in /usr/local/lib/python3.6/dist-packages (1.2.8)\n",
            "setosa 0 2 51\n",
            "versicolor 1 52 101\n",
            "virginica 2 102 151\n"
          ],
          "name": "stdout"
        }
      ]
    },
    {
      "cell_type": "markdown",
      "metadata": {
        "id": "hvnGByqZzD14",
        "colab_type": "text"
      },
      "source": [
        "**Combined Charts**\n",
        "\n",
        "For this example, I'll be using the US Unemployment Rate retrieved using pandas-datareader python library. And I'll essentially use the same code code we used to create a time series line chart and and a column chart to show recession period.  So the end result will be a combination of a line and column chart. Column Chart data are publicly available recession dates for the US economy as determined by the National Bureau of Economic Research (NBER.org).\n",
        "\n",
        "As with the other Chart examples, I use pandas.DataFrame.to_excel() (Docs: https://pandas.pydata.org/pandas-docs/stable/reference/api/pandas.DataFrame.to_excel.html) and pandas.ExcelWriter() (Docs: https://pandas.pydata.org/pandas-docs/stable/reference/api/pandas.ExcelWriter.html)\n",
        "\n",
        "I make this chart rather detailed as with the time series line chart.  I also introduce axis labelling for the first time."
      ]
    },
    {
      "cell_type": "code",
      "metadata": {
        "id": "R3i9zthc-huB",
        "colab_type": "code",
        "colab": {
          "base_uri": "https://localhost:8080/",
          "height": 34
        },
        "outputId": "f8c40bf7-daf1-4771-e467-aa5a0a81e65f"
      },
      "source": [
        "!pip install xlsxwriter\n",
        "import pandas_datareader.data as data\n",
        "import datetime\n",
        "\n",
        "start = datetime.datetime(2000, 1, 1)\n",
        "end = datetime.datetime(2019, 12, 1)\n",
        "\n",
        "#Unemployment Rate\n",
        "unemp_df = data.DataReader(\"UNRATE\", \"fred\", start, end)\n",
        "unemp_df['xlsx_date'] = unemp_df.index - datetime.datetime(1899, 12, 31)\n",
        "\n",
        "# Recession dates are based on NBER Recession Dates set by NBER Business Cycle Committee (NBER.org)\n",
        "unemp_df['month'] = unemp_df.index.map(lambda x: x.month)\n",
        "unemp_df['year'] = unemp_df.index.map(lambda x: x.year)\n",
        "\n",
        "unemp_df['recession'] = 0\n",
        "unemp_df.loc[(unemp_df['year'] == 2001) & (unemp_df['month'].isin([3,4,5,6,7,8,9,10,11])), 'recession'] = 100\n",
        "unemp_df.loc[(unemp_df['year'] == 2007) & (unemp_df['month'] == 12), 'recession'] = 100\n",
        "unemp_df.loc[unemp_df['year'] == 2008, 'recession'] = 100\n",
        "unemp_df.loc[unemp_df['year'] == 2009 & (unemp_df['month'].isin([3,4,5,6,7,8,9,10,11])), 'recession'] = 100\n",
        "unemp_df = unemp_df.drop(columns=['year', 'month'])\n",
        "\n",
        "\n",
        "with pd.ExcelWriter('Unemployment_Rate_combined_chart.xlsx') as writer:\n",
        "    unemp_df.to_excel(writer, index=False)\n",
        "    wb = writer.book\n",
        "    dateFormat = wb.add_format({'num_format':'mmm-yy'})\n",
        "    ws = writer.sheets['Sheet1']\n",
        "    chart0 = wb.add_chart({'type': 'line'})\n",
        "    chart1 = wb.add_chart({'type': 'column'})\n",
        "    ws.write_column('B2', unemp_df['xlsx_date'], dateFormat) #overwriting number with formatted date\n",
        "    chart0.add_series({'name': 'US Unemployment Rate (2000-2019)',\n",
        "                       'values': '=Sheet1!$A$2:$A$%d' % (len(unemp_df)+2), \n",
        "                       'categories': '=Sheet1!$B$2:$B$%d' % (len(unemp_df)+2)})\n",
        "    chart1.add_series({'name': 'Recession',\n",
        "                       'values': '=Sheet1!$C$2:$C$%d' % (len(unemp_df)+2),\n",
        "                       'categories': '=Sheet1!$B$2:$B$%d' % (len(unemp_df)+2),\n",
        "                       'fill': {'color': 'blue', 'transparency': 80}})\n",
        "    chart1.combine(chart0)\n",
        "    chart1.set_x_axis({'name': 'Date',\n",
        "                       'date_axis': True,\n",
        "                       'interval_unit': 6,\n",
        "                       'major_tick_mark': 'inside',\n",
        "                       'minor_tick_mark': 'none',\n",
        "                       'num_font': {'rotation': -45, 'bold': True,},})\n",
        "    chart1.set_legend({'none': True})\n",
        "    chart1.set_y_axis({'name': 'Unemployment Rate','max': round(unemp_df['UNRATE'].max() + 1), 'min': 0})\n",
        "    chart1.set_title({'name': 'US Unemployment Rate (2000-2019)'})\n",
        "    ws.insert_chart('E2', chart1)\n",
        "    wb.close()\n"
      ],
      "execution_count": null,
      "outputs": [
        {
          "output_type": "stream",
          "text": [
            "Requirement already satisfied: xlsxwriter in /usr/local/lib/python3.6/dist-packages (1.2.8)\n"
          ],
          "name": "stdout"
        }
      ]
    },
    {
      "cell_type": "markdown",
      "metadata": {
        "id": "6ryo0CSYMgTK",
        "colab_type": "text"
      },
      "source": [
        "**Creating a Chart Sheet**\n",
        "\n",
        "In this example we use the same code as the previous example.  This time we add a chart sheet of the same chart.\n",
        "\n",
        "Xlsxwriter documentation and examples of chartsheets can be found at https://xlsxwriter.readthedocs.io/chartsheet.html.\n",
        "\n",
        "\n",
        "\n"
      ]
    },
    {
      "cell_type": "code",
      "metadata": {
        "id": "csmIrRGnMsh2",
        "colab_type": "code",
        "colab": {
          "base_uri": "https://localhost:8080/",
          "height": 34
        },
        "outputId": "7820ae89-dc9c-4060-abee-117287c3cf8b"
      },
      "source": [
        "!pip install xlsxwriter\n",
        "import pandas_datareader.data as data\n",
        "import datetime\n",
        "\n",
        "start = datetime.datetime(2000, 1, 1)\n",
        "end = datetime.datetime(2019, 12, 1)\n",
        "\n",
        "#Unemployment Rate\n",
        "unemp_df = data.DataReader(\"UNRATE\", \"fred\", start, end)\n",
        "unemp_df['xlsx_date'] = unemp_df.index - datetime.datetime(1899, 12, 31)\n",
        "\n",
        "# Recession dates are based on NBER Recession Dates set by NBER Business Cycle Committee (NBER.org)\n",
        "unemp_df['month'] = unemp_df.index.map(lambda x: x.month)\n",
        "unemp_df['year'] = unemp_df.index.map(lambda x: x.year)\n",
        "\n",
        "unemp_df['recession'] = 0\n",
        "unemp_df.loc[(unemp_df['year'] == 2001) & (unemp_df['month'].isin([3,4,5,6,7,8,9,10,11])), 'recession'] = 100\n",
        "unemp_df.loc[(unemp_df['year'] == 2007) & (unemp_df['month'] == 12), 'recession'] = 100\n",
        "unemp_df.loc[unemp_df['year'] == 2008, 'recession'] = 100\n",
        "unemp_df.loc[unemp_df['year'] == 2009 & (unemp_df['month'].isin([3,4,5,6,7,8,9,10,11])), 'recession'] = 100\n",
        "unemp_df = unemp_df.drop(columns=['year', 'month'])\n",
        "\n",
        "with pd.ExcelWriter('Unemployment_Rate_combined_chartsheet.xlsx') as writer:\n",
        "    unemp_df.to_excel(writer, index=False)\n",
        "    wb = writer.book\n",
        "    cs = wb.add_chartsheet()\n",
        "    dateFormat = wb.add_format({'num_format':'mmm-yy'})\n",
        "    ws = writer.sheets['Sheet1']\n",
        "    chart0 = wb.add_chart({'type': 'line'})\n",
        "    chart1 = wb.add_chart({'type': 'column'})\n",
        "    ws.write_column('B2', unemp_df['xlsx_date'], dateFormat) #overwriting number with formatted date\n",
        "    chart0.add_series({'name': 'US Unemployment Rate (2000-2019)',\n",
        "                       'values': '=Sheet1!$A$2:$A$%d' % (len(unemp_df)+2), \n",
        "                       'categories': '=Sheet1!$B$2:$B$%d' % (len(unemp_df)+2)})\n",
        "    chart1.add_series({'name': 'Recession',\n",
        "                       'values': '=Sheet1!$C$2:$C$%d' % (len(unemp_df)+2),\n",
        "                       'categories': '=Sheet1!$B$2:$B$%d' % (len(unemp_df)+2),\n",
        "                       'fill': {'color': 'blue', 'transparency': 80}})\n",
        "    chart1.combine(chart0)\n",
        "    chart1.set_x_axis({'name': 'Date',\n",
        "                       'date_axis': True,\n",
        "                       'interval_unit': 6,\n",
        "                       'major_tick_mark': 'inside',\n",
        "                       'minor_tick_mark': 'none',\n",
        "                       'num_font': {'rotation': -45, 'bold': True,},})\n",
        "    chart1.set_legend({'none': True})\n",
        "    chart1.set_y_axis({'name': 'Unemployment Rate','max': round(unemp_df['UNRATE'].max() + 1), 'min': 0})\n",
        "    chart1.set_title({'name': 'US Unemployment Rate (2000-2019)'})\n",
        "    cs.set_chart(chart1)\n",
        "    wb.close()"
      ],
      "execution_count": null,
      "outputs": [
        {
          "output_type": "stream",
          "text": [
            "Requirement already satisfied: xlsxwriter in /usr/local/lib/python3.6/dist-packages (1.2.8)\n"
          ],
          "name": "stdout"
        }
      ]
    }
  ]
}